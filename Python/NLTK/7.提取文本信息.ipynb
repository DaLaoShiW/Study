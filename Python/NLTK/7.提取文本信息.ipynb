{
 "cells": [
  {
   "cell_type": "markdown",
   "metadata": {},
   "source": [
    "* 提取信息\n",
    "    * 目的 :\n",
    "        1. 从大量的非结构化文本信息中抽取出结构化信息\n",
    "        2. 描述文本中的实体关系\n",
    "        3. 利用相关的语料库执行这些操作\n",
    "    * 流程\n",
    "        1. 转化非结构文本信息到结构化文本信息\n",
    "        2. 利用SQL等将对应的结构化文本信息抽取出来\n",
    "    * 信息提取结构\n",
    "        1. 断句\n",
    "        2. 分词\n",
    "        3. 词性标注\n",
    "        4. 命名实体识别\n",
    "        5. 确认结构化数据(列表等) - 关系抽取"
   ]
  },
  {
   "cell_type": "code",
   "execution_count": 2,
   "metadata": {
    "collapsed": false,
    "scrolled": false
   },
   "outputs": [],
   "source": [
    "# 实现1, 2, 3\n",
    "import nltk\n",
    "def process(document):\n",
    "    sents = nltk.sent_tokenize(document)\n",
    "    sents = [nltk.word_tokenize(sent) for sent in sents]\n",
    "    sents = [nltk.pos_tag(i) for i in sents]\n",
    "    return sents\n",
    "# process(nltk.corpus.ieer.raw('NYT_19980315'))"
   ]
  },
  {
   "cell_type": "markdown",
   "metadata": {},
   "source": [
    "* 实体识别  \n",
    "    * 用于实体识别的技术我们一般使用**分块(chunking)**\n",
    "        * 分块实际上就是对一个句子的语法组成的分块，每一块代表一个句子逻辑中的而一个实体或者动作等\n",
    "        * 分块不能出现重叠\n",
    "    * 分块的分类\n",
    "        * 名词短语分块(NP-Chunking)\n",
    "            1. 寻找单独名词短语对应的块\n",
    "            2. NP分块不能包含其他的NP分块(对名词的修饰介词短语或者从句不属于名词的NP分块内部，因为包含有更多的NP分块)\n",
    "            3. 信息来源 :\n",
    "                * 词性标注\n",
    "                * 分块语法:\n",
    "                    1. 规定如何分块\n",
    "                    2. 标记模式（语法）\n",
    "                        组成块语法的规则利用标记模式秒数已标注的词的序列，标记模式是用<>分割的词性标记序列\n",
    "                        ```\n",
    "                        <DT>?<JJ>*<NN>\n",
    "                        ```\n",
    "                    3. 用正则表达式分块  \n",
    "                        可以使用多个更新的分块规则，但所有的分块规则都试验之后返回结果块结构\n",
    "                    4. 缝隙  \n",
    "                        所谓的加缝隙本质上是对已经存在的分块进行一个继续划分\n",
    "                * 表示分块\n",
    "                    * IOB表示法\n",
    "                        1. I : 分块的内部非头元素\n",
    "                        2. B : 分块的内部头元素\n",
    "                        3. O : 分块外元素(叶子节点)\n",
    "                    * 树表示 : NLTK内部使用该方式，但是提供和IOB表示法的转换接口"
   ]
  },
  {
   "cell_type": "code",
   "execution_count": 13,
   "metadata": {
    "collapsed": false
   },
   "outputs": [
    {
     "name": "stdout",
     "output_type": "stream",
     "text": [
      "[('the', 'DT'), ('little', 'JJ'), ('yellow', 'JJ'), ('dog', 'NN'), ('barked', 'VBD'), ('at', 'IN'), ('the', 'DT'), ('cat', 'NN')]\n",
      "(S\n",
      "  (NP the/DT little/JJ yellow/JJ dog/NN)\n",
      "  barked/VBD\n",
      "  at/IN\n",
      "  (NP the/DT cat/NN))\n",
      "(S\n",
      "  (NP the/DT little/JJ yellow/JJ dog/NN)\n",
      "  barked/VBD\n",
      "  at/IN\n",
      "  (NP the/DT cat/NN))\n",
      "(NP the/DT little/JJ yellow/JJ dog/NN)\n",
      "(NP the/DT cat/NN)\n"
     ]
    }
   ],
   "source": [
    "import nltk\n",
    "sentence = 'the little yellow dog barked at the cat'\n",
    "sents = nltk.pos_tag(nltk.word_tokenize(sentence))\n",
    "print(sents)    # 词性标注\n",
    "grammer = \"NP: {<DT>?<JJ>*<NN>}\"    # NP分块器的正则表达式分块语法\n",
    "cp = nltk.RegexpParser(grammer)\n",
    "result = cp.parse(sents)\n",
    "print(result)    # 显示分块结果"
   ]
  },
  {
   "cell_type": "code",
   "execution_count": 4,
   "metadata": {
    "collapsed": false
   },
   "outputs": [
    {
     "name": "stdout",
     "output_type": "stream",
     "text": [
      "[('another', 'DT'), ('sharp', 'JJ'), ('dive', 'JJ'), ('trade', 'NN'), ('figures', 'NNS'), ('any', 'DT'), ('new', 'JJ'), ('policy', 'NN'), ('measures', 'NNS'), ('earlier', 'RBR'), ('stages', 'NNS'), ('Panamanian', 'JJ'), ('dictator', 'NN'), ('Manuel', 'NNP'), ('Noriega', 'NNP')]\n",
      "(S\n",
      "  (NP another/DT sharp/JJ dive/JJ trade/NN figures/NNS)\n",
      "  (NP any/DT new/JJ policy/NN measures/NNS)\n",
      "  earlier/RBR\n",
      "  (NP stages/NNS)\n",
      "  (NP Panamanian/JJ dictator/NN Manuel/NNP Noriega/NNP))\n"
     ]
    }
   ],
   "source": [
    "sentence = 'another sharp dive trade figures any new policy measures earlier stages Panamanian dictator Manuel Noriega'\n",
    "sents = nltk.pos_tag(nltk.word_tokenize(sentence))\n",
    "print(sents)\n",
    "grammer = 'NP: {<DT>?<JJ.*>*<NN.*>+}'\n",
    "cp = nltk.RegexpParser(grammer)\n",
    "result = cp.parse(sents)\n",
    "print(result)"
   ]
  },
  {
   "cell_type": "code",
   "execution_count": 19,
   "metadata": {
    "collapsed": false
   },
   "outputs": [
    {
     "name": "stdout",
     "output_type": "stream",
     "text": [
      "(S\n",
      "  (NP Rapunzel/NNP)\n",
      "  let/VBD\n",
      "  down/RP\n",
      "  (NP her/PRP$ long/JJ golden/JJ hair/NN))\n",
      "--------------------\n",
      "S (S\n",
      "  (NP Rapunzel/NNP)\n",
      "  let/VBD\n",
      "  down/RP\n",
      "  (NP her/PRP$ long/JJ golden/JJ hair/NN))\n",
      "NP (NP Rapunzel/NNP)\n",
      "NP (NP her/PRP$ long/JJ golden/JJ hair/NN)\n"
     ]
    }
   ],
   "source": [
    "# 使用正则表达式分快器\n",
    "# 注意result的结果是一个解析树\n",
    "grammer = r'''\n",
    "    NP: {<DT|PRP\\$>?<JJ>*<NN>}    # 注释1\n",
    "        {<NNP>+}    # 注释2'''   \n",
    "cp = nltk.RegexpParser(grammer)\n",
    "sentence = 'Rapunzel let down her long golden hair'\n",
    "sents = nltk.pos_tag(nltk.word_tokenize(sentence))\n",
    "result = cp.parse(sents)\n",
    "print(result)\n",
    "\n",
    "print('-' * 20)\n",
    "# 打开解析树\n",
    "for i in result.subtrees():\n",
    "    print(i.label(), i)"
   ]
  },
  {
   "cell_type": "code",
   "execution_count": 3,
   "metadata": {
    "collapsed": false
   },
   "outputs": [
    {
     "name": "stdout",
     "output_type": "stream",
     "text": [
      "(S\n",
      "  (NP the/DT)\n",
      "  little/JJ\n",
      "  yellow/JJ\n",
      "  (NP dog/NN)\n",
      "  barked/VBD\n",
      "  at/IN\n",
      "  (NP the/DT cat/NN))\n"
     ]
    }
   ],
   "source": [
    "# 加缝隙\n",
    "grammer = r'''\n",
    "    NP: {<DT>?<JJ>*<NN>+}\n",
    "        }<JJ>+{    # 加缝隙，用动词对已有的分块划分\n",
    "'''\n",
    "sentence = 'the little yellow dog barked at the cat'\n",
    "sents = nltk.pos_tag(nltk.word_tokenize(sentence))\n",
    "cp = nltk.RegexpParser(grammer)\n",
    "print(cp.parse(sents))"
   ]
  },
  {
   "cell_type": "markdown",
   "metadata": {},
   "source": [
    "* 开发和评估分快器\n",
    "    1. IBO 转换成 NLTK树状图的形式，学习一个分快起在一个语料库上的评分标准\n",
    "    2. 使用corpora模块访问大量已经分块的文本  \n",
    "        我们现在可以访问已经分块的黄金标准语料库，用其来评估分类器\n",
    "        * 训练模块\n",
    "        * 测试模块\n",
    "    3. 常用函数解析\n",
    "        * ```nltk.chunked_sents('train.txt', chunk_types=['NP'])```  \n",
    "            返回树型的IOB结构组成的列表\n",
    "        * ```nltk.chunk.tree2conlltags(t)```  \n",
    "            输入要转化的树结构，返回三元组(word, tag, IBO-tag)列表\n",
    "            * word : 对应的词\n",
    "            * tag : word的词性\n",
    "            * IBO-tag : 对应的word的IBO标记\n",
    "        * ```nltk.chunk.conllstr2tree(s, chunk_types=['NP', 'PP', 'VP'], root_label='S')```  \n",
    "            转换字符串的IBO串到一个树结构\n",
    "            * s : 是要转换的字符串\n",
    "            * chunk_types : 是要决定的分块的标准\n",
    "        * ```nltk.chunk.conlltags2tree(s, chunk_types=[...])```  \n",
    "            转换一个三元组标记列表成为一个树\n",
    "    4. 分块器\n",
    "        * 词性标记分块器\n",
    "            * 正则表达式分块器\n",
    "            * Unigram / Bigram标注器改造的分块器\n",
    "        * 但是如果单单的使用词性标注来考虑我们的分块有时候是不和常理的，我们还需要将词的内容信息最为词性标记分块器的补充\n",
    "            * n-grams : 基于分类器的标注器对句子分块，比如n-grams分块器"
   ]
  },
  {
   "cell_type": "code",
   "execution_count": 1,
   "metadata": {
    "collapsed": false
   },
   "outputs": [
    {
     "data": {
      "image/png": "[encoded data removed]",
      "text/plain": [
       "Tree('S', [Tree('NP', [('he', 'PRP')]), ('accept', 'VBD'), Tree('NP', [('the', 'DT'), ('position', 'NN')]), ('of', 'IN'), Tree('NP', [('vice', 'NN'), ('chariman', 'NN')]), ('of', 'IN'), Tree('NP', [('Carlyle', 'NNP'), ('Group', 'NNP')]), (',', ','), Tree('NP', [('a', 'DT'), ('merchant', 'NN'), ('banking', 'NN'), ('concern', 'NN')]), ('.', '.')])"
      ]
     },
     "execution_count": 1,
     "metadata": {},
     "output_type": "execute_result"
    }
   ],
   "source": [
    "import nltk\n",
    "text = '''\n",
    "he PRP B-NP\n",
    "accept VBD B-VP\n",
    "the DT B-NP\n",
    "position NN I-NP\n",
    "of IN B-PP\n",
    "vice NN B-NP\n",
    "chariman NN I-NP\n",
    "of IN B-PP\n",
    "Carlyle NNP B-NP\n",
    "Group NNP I-NP\n",
    ", , O\n",
    "a DT B-NP\n",
    "merchant NN I-NP\n",
    "banking NN I-NP\n",
    "concern NN I-NP\n",
    ". . O\n",
    "'''\n",
    "nltk.chunk.conllstr2tree(text, chunk_types=['NP'])"
   ]
  },
  {
   "cell_type": "code",
   "execution_count": 4,
   "metadata": {
    "collapsed": false
   },
   "outputs": [
    {
     "name": "stdout",
     "output_type": "stream",
     "text": [
      "(S\n",
      "  Over/IN\n",
      "  (NP a/DT cup/NN)\n",
      "  of/IN\n",
      "  (NP coffee/NN)\n",
      "  ,/,\n",
      "  (NP Mr./NNP Stone/NNP)\n",
      "  told/VBD\n",
      "  (NP his/PRP$ story/NN)\n",
      "  ./.)\n"
     ]
    }
   ],
   "source": [
    "from nltk.corpus import conll2000\n",
    "print(conll2000.chunked_sents('train.txt', chunk_types=['NP'])[99])"
   ]
  },
  {
   "cell_type": "code",
   "execution_count": 17,
   "metadata": {
    "collapsed": false
   },
   "outputs": [
    {
     "name": "stdout",
     "output_type": "stream",
     "text": [
      "ChunkParse score:\n",
      "    IOB Accuracy:  43.4%%\n",
      "    Precision:      0.0%%\n",
      "    Recall:         0.0%%\n",
      "    F-Measure:      0.0%%\n",
      "ChunkParse score:\n",
      "    IOB Accuracy:  87.7%%\n",
      "    Precision:     70.6%%\n",
      "    Recall:        67.8%%\n",
      "    F-Measure:     69.2%%\n",
      "ChunkParse score:\n",
      "    IOB Accuracy:  92.9%%\n",
      "    Precision:     79.9%%\n",
      "    Recall:        86.8%%\n",
      "    F-Measure:     83.2%%\n"
     ]
    }
   ],
   "source": [
    "# 使用词性标注的分块器\n",
    "from nltk.corpus import conll2000\n",
    "import nltk\n",
    "cp = nltk.RegexpParser(\"\")    # 空语法\n",
    "testsents = conll2000.chunked_sents('test.txt', chunk_types=['NP'])\n",
    "print(cp.evaluate(testsents))     # 显示我们的数据在测试集上的精确度，召回率，和F度量，但是显示有超过1/3的数据是O\n",
    "\n",
    "# 虽然效果相对来说不错，但是可以采用更多的数据驱动方式来进行改变\n",
    "cp = nltk.RegexpParser(\"NP: {<[CDJNP].*>+}\")\n",
    "testsents = conll2000.chunked_sents('test.txt', chunk_types=['NP'])\n",
    "print(cp.evaluate(testsents))     # 显示我们的数据在测试集上的精确度，召回率，和F度量，但是显示有超过1/3的数据是O\n",
    "\n",
    "# 集成Unigram算法的模型转变标注器成为一个分块器\n",
    "class Unigramchunker(nltk.ChunkParserI):\n",
    "    def __init__(self, train_sents):\n",
    "        train_data = [[(t, c) for w, t, c in nltk.chunk.tree2conlltags(sent)] for sent in train_sents]\n",
    "        self.tagger = nltk.UnigramTagger(train_data)\n",
    "    def parse(self, sentence):\n",
    "        pos_tags = [pos for (word, pos) in sentence]\n",
    "        tagged_pos_tags = self.tagger.tag(pos_tags)\n",
    "        chunktags = [chunktag for (pos, chunktag) in tagged_pos_tags]\n",
    "        conlltags = [(word, pos, chunktag) for ((word, pos), chunktag) in zip(sentence, chunktags)]\n",
    "        return nltk.chunk.conlltags2tree(conlltags)\n",
    "\n",
    "testsents = conll2000.chunked_sents('test.txt', chunk_types=['NP'])\n",
    "trainsents = conll2000.chunked_sents('train.txt', chunk_types=['NP'])\n",
    "unichunker = Unigramchunker(trainsents)\n",
    "print(unichunker.evaluate(testsents))"
   ]
  },
  {
   "cell_type": "code",
   "execution_count": 18,
   "metadata": {
    "collapsed": false
   },
   "outputs": [
    {
     "ename": "IndentationError",
     "evalue": "expected an indented block (<ipython-input-18-522671b38f78>, line 6)",
     "output_type": "error",
     "traceback": [
      "\u001b[0;36m  File \u001b[0;32m\"<ipython-input-18-522671b38f78>\"\u001b[0;36m, line \u001b[0;32m6\u001b[0m\n\u001b[0;31m    class ConsecutiveTagger(nltk.TaggerI):\u001b[0m\n\u001b[0m        ^\u001b[0m\n\u001b[0;31mIndentationError\u001b[0m\u001b[0;31m:\u001b[0m expected an indented block\n"
     ]
    }
   ],
   "source": [
    "# 词性标注 + 词意内容　分块器\n",
    "# 使用连续分类器(6中提到，是使用之前的历史记录对之后的词性标注产生指导性作用，相当于引入了词的含义信息)\n",
    "\n",
    "def npchunk_features(sentence, i, history):\n",
    "    word, pos = sentence[i]\n",
    "    return {'pos': pos}\n",
    "\n",
    "class ConsecutiveTagger(nltk.TaggerI):\n",
    "    def __init__(self, train_sents):\n",
    "        train_set = []\n",
    "        for tagged_sent in train_sents:\n",
    "            untagged_sent = nltk.tag.untag(tagged_sent)\n",
    "            history = []\n",
    "            for i, (word, tag) in enumerate(tagged_sent):\n",
    "                featureset = npchunk_features(untagged_sent, i ,history)"
   ]
  },
  {
   "cell_type": "code",
   "execution_count": null,
   "metadata": {
    "collapsed": true
   },
   "outputs": [],
   "source": []
  }
 ],
 "metadata": {
  "kernelspec": {
   "display_name": "Python3 NLTK",
   "language": "python",
   "name": "pythonnltk"
  },
  "language_info": {
   "codemirror_mode": {
    "name": "ipython",
    "version": 3
   },
   "file_extension": ".py",
   "mimetype": "text/x-python",
   "name": "python",
   "nbconvert_exporter": "python",
   "pygments_lexer": "ipython3",
   "version": "3.6.0"
  }
 },
 "nbformat": 4,
 "nbformat_minor": 2
}
