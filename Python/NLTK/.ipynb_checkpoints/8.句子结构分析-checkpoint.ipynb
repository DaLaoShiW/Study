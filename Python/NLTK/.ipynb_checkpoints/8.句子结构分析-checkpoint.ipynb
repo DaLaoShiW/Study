{
 "cells": [
  {
   "cell_type": "markdown",
   "metadata": {
    "collapsed": true
   },
   "source": [
    "* 问题\n",
    "    * 如何使用形式化的语法表示无限的句子结构  \n",
    "        * 大量的数据并不一定就是很好的表示**语法结构的核心（并不一定是对的）**,相对的，语言存在有一些固定的文法，我们可以考虑从固定的文法(语句框架 e.g. S but S),构建一个新的可以被理解的语句\n",
    "        * 文法的目的在于给出明确的语言描述\n",
    "    * 如何使用语法书表示句子结构\n",
    "    * 解析器如何自动构建语法树"
   ]
  },
  {
   "cell_type": "code",
   "execution_count": 2,
   "metadata": {
    "collapsed": false
   },
   "outputs": [
    {
     "ename": "AttributeError",
     "evalue": "module 'nltk' has no attribute 'parse_cfg'",
     "output_type": "error",
     "traceback": [
      "\u001b[0;31m---------------------------------------------------------------------------\u001b[0m",
      "\u001b[0;31mAttributeError\u001b[0m                            Traceback (most recent call last)",
      "\u001b[0;32m<ipython-input-2-e958c1478289>\u001b[0m in \u001b[0;36m<module>\u001b[0;34m()\u001b[0m\n\u001b[1;32m      1\u001b[0m \u001b[0;32mimport\u001b[0m \u001b[0mnltk\u001b[0m\u001b[0;34m\u001b[0m\u001b[0m\n\u001b[0;32m----> 2\u001b[0;31m groucho_grammer = nltk.parse_cfg('''\n\u001b[0m\u001b[1;32m      3\u001b[0m \u001b[0mS\u001b[0m \u001b[0;34m->\u001b[0m \u001b[0mNP\u001b[0m \u001b[0mVP\u001b[0m\u001b[0;34m\u001b[0m\u001b[0m\n\u001b[1;32m      4\u001b[0m \u001b[0mPP\u001b[0m \u001b[0;34m->\u001b[0m \u001b[0mP\u001b[0m \u001b[0mNP\u001b[0m\u001b[0;34m\u001b[0m\u001b[0m\n\u001b[1;32m      5\u001b[0m \u001b[0mNP\u001b[0m \u001b[0;34m->\u001b[0m \u001b[0mDet\u001b[0m \u001b[0mN\u001b[0m \u001b[0;34m|\u001b[0m \u001b[0mDet\u001b[0m \u001b[0mN\u001b[0m \u001b[0mPP\u001b[0m \u001b[0;34m|\u001b[0m \u001b[0;34m'I'\u001b[0m\u001b[0;34m\u001b[0m\u001b[0m\n",
      "\u001b[0;31mAttributeError\u001b[0m: module 'nltk' has no attribute 'parse_cfg'"
     ]
    }
   ],
   "source": [
    "import nltk\n",
    "groucho_grammer = nltk.parse_cfg('''\n",
    "S -> NP VP\n",
    "PP -> P NP\n",
    "NP -> Det N | Det N PP | 'I'\n",
    "VP -> V NP | VP PP\n",
    "Det -> 'an' | 'my'\n",
    "N -> 'elephant' | 'pajamas'\n",
    "V -> 'shot'\n",
    "P -> 'in' \n",
    "''')\n",
    "sent = ['I', 'shot', 'an', 'elephant', 'in', 'my', 'pajamas']\n",
    "parser = nltk.ChartParser(groucho_grammer)\n",
    "trees = parser.nbest_parse(sent)\n",
    "for tree in trees:\n",
    "    print(tree)"
   ]
  }
 ],
 "metadata": {
  "kernelspec": {
   "display_name": "Python3 NLTK",
   "language": "python",
   "name": "pythonnltk"
  },
  "language_info": {
   "codemirror_mode": {
    "name": "ipython",
    "version": 3
   },
   "file_extension": ".py",
   "mimetype": "text/x-python",
   "name": "python",
   "nbconvert_exporter": "python",
   "pygments_lexer": "ipython3",
   "version": "3.6.0"
  }
 },
 "nbformat": 4,
 "nbformat_minor": 2
}
