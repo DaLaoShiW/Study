{
 "cells": [
  {
   "cell_type": "markdown",
   "metadata": {},
   "source": [
    "* 目的   \n",
    "    1. 在NLP任务中，我们可以清晰的发现需要大量的语言数据或者语料库  \n",
    "    2. 文本语料库是一大段的文本，语料库的设计要考虑到文体之间的平衡  \n",
    "    3. 我们接下来获得各种不同和有特殊属性的语料库来满足我们的日常的需求\n"
   ]
  },
  {
   "cell_type": "markdown",
   "metadata": {},
   "source": [
    "* 古登堡语料库  \n",
    "    收藏大量的免费电子书"
   ]
  },
  {
   "cell_type": "code",
   "execution_count": 2,
   "metadata": {
    "collapsed": false
   },
   "outputs": [
    {
     "data": {
      "text/plain": [
       "['austen-emma.txt',\n",
       " 'austen-persuasion.txt',\n",
       " 'austen-sense.txt',\n",
       " 'bible-kjv.txt',\n",
       " 'blake-poems.txt',\n",
       " 'bryant-stories.txt',\n",
       " 'burgess-busterbrown.txt',\n",
       " 'carroll-alice.txt',\n",
       " 'chesterton-ball.txt',\n",
       " 'chesterton-brown.txt',\n",
       " 'chesterton-thursday.txt',\n",
       " 'edgeworth-parents.txt',\n",
       " 'melville-moby_dick.txt',\n",
       " 'milton-paradise.txt',\n",
       " 'shakespeare-caesar.txt',\n",
       " 'shakespeare-hamlet.txt',\n",
       " 'shakespeare-macbeth.txt',\n",
       " 'whitman-leaves.txt']"
      ]
     },
     "execution_count": 2,
     "metadata": {},
     "output_type": "execute_result"
    }
   ],
   "source": [
    "import nltk\n",
    "nltk.corpus.gutenberg.fileids()    # nltk.文集.古登堡.域 存储我们的古登堡项目的电子书文本,该域值列表可以用来循环迭代"
   ]
  },
  {
   "cell_type": "code",
   "execution_count": 3,
   "metadata": {
    "collapsed": false
   },
   "outputs": [
    {
     "name": "stdout",
     "output_type": "stream",
     "text": [
      "Displaying 25 of 37 matches:\n",
      "er father , was sometimes taken by surprize at his being still able to pity ` \n",
      "hem do the other any good .\" \" You surprize me ! Emma must do Harriet good : a\n",
      "Knightley actually looked red with surprize and displeasure , as he stood up ,\n",
      "r . Elton , and found to his great surprize , that Mr . Elton was actually on \n",
      "d aid .\" Emma saw Mrs . Weston ' s surprize , and felt that it must be great ,\n",
      "father was quite taken up with the surprize of so sudden a journey , and his f\n",
      "y , in all the favouring warmth of surprize and conjecture . She was , moreove\n",
      "he appeared , to have her share of surprize , introduction , and pleasure . Th\n",
      "ir plans ; and it was an agreeable surprize to her , therefore , to perceive t\n",
      "talking aunt had taken me quite by surprize , it must have been the death of m\n",
      "f all the dialogue which ensued of surprize , and inquiry , and congratulation\n",
      " the present . They might chuse to surprize her .\" Mrs . Cole had many to agre\n",
      "the mode of it , the mystery , the surprize , is more like a young woman ' s s\n",
      " to her song took her agreeably by surprize -- a second , slightly but correct\n",
      "\" \" Oh ! no -- there is nothing to surprize one at all .-- A pretty fortune ; \n",
      "t to be considered . Emma ' s only surprize was that Jane Fairfax should accep\n",
      "of your admiration may take you by surprize some day or other .\" Mr . Knightle\n",
      "ation for her will ever take me by surprize .-- I never had a thought of her i\n",
      " expected by the best judges , for surprize -- but there was great joy . Mr . \n",
      " sound of at first , without great surprize . \" So unreasonably early !\" she w\n",
      "d Frank Churchill , with a look of surprize and displeasure .-- \" That is easy\n",
      "; and Emma could imagine with what surprize and mortification she must be retu\n",
      "tled that Jane should go . Quite a surprize to me ! I had not the least idea !\n",
      " . It is impossible to express our surprize . He came to speak to his father o\n",
      "g engaged !\" Emma even jumped with surprize ;-- and , horror - struck , exclai\n"
     ]
    }
   ],
   "source": [
    "emma_words = nltk.Text(nltk.corpus.gutenberg.words('austen-emma.txt'))    # 根据给定的文本预料创建Text对象\n",
    "emma_raw = nltk.corpus.gutenberg.raw('austen-emma.txt')    # 返回字符串构成的文本,没有人很语言学处理\n",
    "emma_sent = nltk.corpus.gutenberg.sents('austen-emma.txt')    # 句子的分割，一个嵌套列表，每一个元素都是一个句子的按词切分\n",
    "emma_words.concordance('surprize')    # 检索其中的surprize单词出现的上下文"
   ]
  },
  {
   "cell_type": "markdown",
   "metadata": {},
   "source": [
    "* 网络聊天文本  \n",
    "    古登堡项目是既定文学，我们有时候还需要考虑非既定文学，比如网络文学"
   ]
  },
  {
   "cell_type": "code",
   "execution_count": 5,
   "metadata": {
    "collapsed": false
   },
   "outputs": [
    {
     "name": "stdout",
     "output_type": "stream",
     "text": [
      "firefox.txt Cookie Manager: \"Don't allow sites that set removed cookies to se ...\n",
      "grail.txt SCENE 1: [wind] [clop clop clop] \n",
      "KING ARTHUR: Whoa there!  [clop ...\n",
      "overheard.txt White guy: So, do you have any plans for this evening?\n",
      "Asian girl ...\n",
      "pirates.txt PIRATES OF THE CARRIBEAN: DEAD MAN'S CHEST, by Ted Elliott & Terr ...\n",
      "singles.txt 25 SEXY MALE, seeks attrac older single lady, for discreet encoun ...\n",
      "wine.txt Lovely delicate, fragrant Rhone wine. Polished leather and strawb ...\n"
     ]
    }
   ],
   "source": [
    "from nltk.corpus import webtext\n",
    "for i in webtext.fileids()\n",
    "    print(i, webtext.raw(i)[:65], '...')"
   ]
  },
  {
   "cell_type": "code",
   "execution_count": 3,
   "metadata": {
    "collapsed": false
   },
   "outputs": [
    {
     "name": "stdout",
     "output_type": "stream",
     "text": [
      "['i', 'do', \"n't\", 'want', 'hot', 'pics', 'of', 'a', 'female', ',', 'I', 'can', 'look', 'in', 'a', 'mirror', '.']\n",
      "706\n"
     ]
    },
    {
     "data": {
      "text/plain": [
       "'Statement'"
      ]
     },
     "execution_count": 3,
     "metadata": {},
     "output_type": "execute_result"
    }
   ],
   "source": [
    "from nltk.corpus import nps_chat\n",
    "chatroom = nps_chat.posts('10-19-20s_706posts.xml')\n",
    "print(chatroom[123])\n",
    "print(len(chatroom))    # 706个句子向量\n",
    "# 获得xml的内容\n",
    "post = nltk.corpus.nps_chat.xml_posts()[0]\n",
    "post.get('class')    # 获取文本的分类"
   ]
  },
  {
   "cell_type": "markdown",
   "metadata": {},
   "source": [
    "* 布朗语料库  \n",
    "    * 布朗语料库是第一个百万级别单词的英语电子语料库，该语料库中含有500个不同来源的文本，并且按照文体进行分类\n",
    "    * 可以用来研究文体之间的系统差异性"
   ]
  },
  {
   "cell_type": "code",
   "execution_count": 20,
   "metadata": {
    "collapsed": false
   },
   "outputs": [
    {
     "name": "stdout",
     "output_type": "stream",
     "text": [
      "['adventure', 'belles_lettres', 'editorial', 'fiction', 'government', 'hobbies', 'humor', 'learned', 'lore', 'mystery', 'news', 'religion', 'reviews', 'romance', 'science_fiction']\n",
      "['The', 'Fulton', 'County', 'Grand', 'Jury', 'said', ...]\n",
      "[['Now', 'that', 'he', 'knew', 'himself', 'to', 'be', 'self', 'he', 'was', 'free', 'to', 'grok', 'ever', 'closer', 'to', 'his', 'brothers', ',', 'merge', 'without', 'let', '.'], [\"Self's\", 'integrity', 'was', 'and', 'is', 'and', 'ever', 'had', 'been', '.'], ...]\n",
      "\n",
      "\n",
      "\tDan/np Morgan/np told/vbd himself/ppl he/pps would/md forget/vb Ann/np Turner/np ./.\n",
      "He/pps was/b\n",
      "93\n",
      "86\n",
      "66\n",
      "38\n",
      "50\n",
      "389\n"
     ]
    }
   ],
   "source": [
    "from nltk.corpus import brown\n",
    "print(brown.categories())    # 显示文体的类别\n",
    "news = brown.words(categories='news')\n",
    "print(news)\n",
    "science_fiction = brown.sents(categories='science_fiction')\n",
    "print(science_fiction)\n",
    "adventure = brown.raw(categories='adventure')\n",
    "print(adventure[:100])\n",
    "\n",
    "# 研究情态动词\n",
    "fdist = nltk.FreqDist(news)    # 只能接收词向量\n",
    "models = ['can', 'could', 'may', 'might', 'must', 'will']\n",
    "for i in models:\n",
    "    print(fdist[i])"
   ]
  },
  {
   "cell_type": "markdown",
   "metadata": {},
   "source": [
    "* 路透社语料库  \n",
    "    * 新闻文体 10788 / 130万字 / 90主题\n",
    "    * 文本分为训练(training)和测试（test）两类"
   ]
  },
  {
   "cell_type": "code",
   "execution_count": 26,
   "metadata": {
    "collapsed": false
   },
   "outputs": [
    {
     "name": "stdout",
     "output_type": "stream",
     "text": [
      "10788\n"
     ]
    }
   ],
   "source": [
    "from nltk.corpus import reuters\n",
    "print(len(reuters.fileids()))"
   ]
  },
  {
   "cell_type": "code",
   "execution_count": 27,
   "metadata": {
    "collapsed": false
   },
   "outputs": [
    {
     "data": {
      "text/plain": [
       "['acq',\n",
       " 'alum',\n",
       " 'barley',\n",
       " 'bop',\n",
       " 'carcass',\n",
       " 'castor-oil',\n",
       " 'cocoa',\n",
       " 'coconut',\n",
       " 'coconut-oil',\n",
       " 'coffee',\n",
       " 'copper',\n",
       " 'copra-cake',\n",
       " 'corn',\n",
       " 'cotton',\n",
       " 'cotton-oil',\n",
       " 'cpi',\n",
       " 'cpu',\n",
       " 'crude',\n",
       " 'dfl',\n",
       " 'dlr',\n",
       " 'dmk',\n",
       " 'earn',\n",
       " 'fuel',\n",
       " 'gas',\n",
       " 'gnp',\n",
       " 'gold',\n",
       " 'grain',\n",
       " 'groundnut',\n",
       " 'groundnut-oil',\n",
       " 'heat',\n",
       " 'hog',\n",
       " 'housing',\n",
       " 'income',\n",
       " 'instal-debt',\n",
       " 'interest',\n",
       " 'ipi',\n",
       " 'iron-steel',\n",
       " 'jet',\n",
       " 'jobs',\n",
       " 'l-cattle',\n",
       " 'lead',\n",
       " 'lei',\n",
       " 'lin-oil',\n",
       " 'livestock',\n",
       " 'lumber',\n",
       " 'meal-feed',\n",
       " 'money-fx',\n",
       " 'money-supply',\n",
       " 'naphtha',\n",
       " 'nat-gas',\n",
       " 'nickel',\n",
       " 'nkr',\n",
       " 'nzdlr',\n",
       " 'oat',\n",
       " 'oilseed',\n",
       " 'orange',\n",
       " 'palladium',\n",
       " 'palm-oil',\n",
       " 'palmkernel',\n",
       " 'pet-chem',\n",
       " 'platinum',\n",
       " 'potato',\n",
       " 'propane',\n",
       " 'rand',\n",
       " 'rape-oil',\n",
       " 'rapeseed',\n",
       " 'reserves',\n",
       " 'retail',\n",
       " 'rice',\n",
       " 'rubber',\n",
       " 'rye',\n",
       " 'ship',\n",
       " 'silver',\n",
       " 'sorghum',\n",
       " 'soy-meal',\n",
       " 'soy-oil',\n",
       " 'soybean',\n",
       " 'strategic-metal',\n",
       " 'sugar',\n",
       " 'sun-meal',\n",
       " 'sun-oil',\n",
       " 'sunseed',\n",
       " 'tea',\n",
       " 'tin',\n",
       " 'trade',\n",
       " 'veg-oil',\n",
       " 'wheat',\n",
       " 'wpi',\n",
       " 'yen',\n",
       " 'zinc']"
      ]
     },
     "execution_count": 27,
     "metadata": {},
     "output_type": "execute_result"
    }
   ],
   "source": [
    "reuters.categories()    # 文体分类"
   ]
  },
  {
   "cell_type": "code",
   "execution_count": 30,
   "metadata": {
    "collapsed": false
   },
   "outputs": [
    {
     "name": "stdout",
     "output_type": "stream",
     "text": [
      "['barley', 'corn', 'grain', 'wheat']\n",
      "['test/16225', 'test/17494', 'test/19672', 'test/19982', 'training/10268', 'training/10406', 'training/12754', 'training/12907', 'training/235', 'training/275', 'training/7545', 'training/9153', 'training/9327']\n"
     ]
    },
    {
     "data": {
      "text/plain": [
       "['FRENCH', 'FREE', 'MARKET', 'CEREAL', 'EXPORT', ...]"
      ]
     },
     "execution_count": 30,
     "metadata": {},
     "output_type": "execute_result"
    }
   ],
   "source": [
    "# 根据类别筛选新闻,根据新闻抽取类别\n",
    "print(reuters.categories(['training/9865']))\n",
    "print(reuters.fileids('tea'))\n",
    "reuters.words('training/9865')\n",
    "# reuters.words(categories='tea')"
   ]
  },
  {
   "cell_type": "markdown",
   "metadata": {},
   "source": [
    "* 就职演说语料库  \n",
    "    美国总统的就职演说\n",
    "    "
   ]
  },
  {
   "cell_type": "code",
   "execution_count": 32,
   "metadata": {
    "collapsed": false
   },
   "outputs": [
    {
     "data": {
      "text/plain": [
       "['1789-Washington.txt',\n",
       " '1793-Washington.txt',\n",
       " '1797-Adams.txt',\n",
       " '1801-Jefferson.txt',\n",
       " '1805-Jefferson.txt',\n",
       " '1809-Madison.txt',\n",
       " '1813-Madison.txt',\n",
       " '1817-Monroe.txt',\n",
       " '1821-Monroe.txt',\n",
       " '1825-Adams.txt',\n",
       " '1829-Jackson.txt',\n",
       " '1833-Jackson.txt',\n",
       " '1837-VanBuren.txt',\n",
       " '1841-Harrison.txt',\n",
       " '1845-Polk.txt',\n",
       " '1849-Taylor.txt',\n",
       " '1853-Pierce.txt',\n",
       " '1857-Buchanan.txt',\n",
       " '1861-Lincoln.txt',\n",
       " '1865-Lincoln.txt',\n",
       " '1869-Grant.txt',\n",
       " '1873-Grant.txt',\n",
       " '1877-Hayes.txt',\n",
       " '1881-Garfield.txt',\n",
       " '1885-Cleveland.txt',\n",
       " '1889-Harrison.txt',\n",
       " '1893-Cleveland.txt',\n",
       " '1897-McKinley.txt',\n",
       " '1901-McKinley.txt',\n",
       " '1905-Roosevelt.txt',\n",
       " '1909-Taft.txt',\n",
       " '1913-Wilson.txt',\n",
       " '1917-Wilson.txt',\n",
       " '1921-Harding.txt',\n",
       " '1925-Coolidge.txt',\n",
       " '1929-Hoover.txt',\n",
       " '1933-Roosevelt.txt',\n",
       " '1937-Roosevelt.txt',\n",
       " '1941-Roosevelt.txt',\n",
       " '1945-Roosevelt.txt',\n",
       " '1949-Truman.txt',\n",
       " '1953-Eisenhower.txt',\n",
       " '1957-Eisenhower.txt',\n",
       " '1961-Kennedy.txt',\n",
       " '1965-Johnson.txt',\n",
       " '1969-Nixon.txt',\n",
       " '1973-Nixon.txt',\n",
       " '1977-Carter.txt',\n",
       " '1981-Reagan.txt',\n",
       " '1985-Reagan.txt',\n",
       " '1989-Bush.txt',\n",
       " '1993-Clinton.txt',\n",
       " '1997-Clinton.txt',\n",
       " '2001-Bush.txt',\n",
       " '2005-Bush.txt',\n",
       " '2009-Obama.txt']"
      ]
     },
     "execution_count": 32,
     "metadata": {},
     "output_type": "execute_result"
    }
   ],
   "source": [
    "from nltk.corpus import inaugural\n",
    "inaugural.fileids()"
   ]
  },
  {
   "cell_type": "markdown",
   "metadata": {},
   "source": [
    "* 标注文本的语料库\n",
    "    * 词性标注\n",
    "    * 命名实体\n",
    "    * 句法结构\n",
    "    * 语义角色\n",
    "* 其他语言的语料库\n",
    "    * NLTK内置有多国的语料文本"
   ]
  },
  {
   "cell_type": "code",
   "execution_count": 34,
   "metadata": {
    "collapsed": false
   },
   "outputs": [
    {
     "data": {
      "text/plain": [
       "['El', 'grupo', 'estatal', 'Electricité_de_France', ...]"
      ]
     },
     "execution_count": 34,
     "metadata": {},
     "output_type": "execute_result"
    }
   ],
   "source": [
    "nltk.corpus.cess_esp.words()"
   ]
  },
  {
   "cell_type": "code",
   "execution_count": 35,
   "metadata": {
    "collapsed": false
   },
   "outputs": [
    {
     "data": {
      "text/plain": [
       "['Um', 'revivalismo', 'refrescante', 'O', '7_e_Meio', ...]"
      ]
     },
     "execution_count": 35,
     "metadata": {},
     "output_type": "execute_result"
    }
   ],
   "source": [
    "nltk.corpus.floresta.words()"
   ]
  },
  {
   "cell_type": "code",
   "execution_count": 37,
   "metadata": {
    "collapsed": false
   },
   "outputs": [
    {
     "data": {
      "text/plain": [
       "['মহিষের', 'সন্তান', ':', 'তোড়া', 'উপজাতি', '৷', ...]"
      ]
     },
     "execution_count": 37,
     "metadata": {},
     "output_type": "execute_result"
    }
   ],
   "source": [
    "nltk.corpus.indian.words()"
   ]
  },
  {
   "cell_type": "code",
   "execution_count": 41,
   "metadata": {
    "collapsed": false
   },
   "outputs": [
    {
     "name": "stdout",
     "output_type": "stream",
     "text": [
      "['UNIVERSAL', 'NA', 'DECLARASION', 'I', 'DERECHO', ...]\n"
     ]
    }
   ],
   "source": [
    "fileids = nltk.corpus.udhr2.fileids()\n",
    "print(nltk.corpus.udhr2.words('cha.txt'))    # raw / words / sents"
   ]
  },
  {
   "cell_type": "markdown",
   "metadata": {},
   "source": [
    "* 语料库的结构  \n",
    "    * 随机\n",
    "    * 分类categories\n",
    "    * 主题分类,会重叠\n",
    "    * 时间序列\n",
    "* 语料库阅读器  \n",
    "    * 高效访问大量的预料库\n",
    "    * 可以处理新的语料库文本\n",
    "    * 方法函数\n",
    "        * fileids() : 语料库中文件\n",
    "        * fileids([...]) : 分类对应的语料库文件\n",
    "        * categories() : 语料库分类\n",
    "        * categories([...]) : 文件对应的语料库的分类\n",
    "        * raw()\n",
    "        * raw(fileids=[...])\n",
    "        * raw(categories=[...])\n",
    "        * words ： 同raw\n",
    "        * sents : 同word\n",
    "        * encoding(filename) : 文件的编码\n",
    "        * open(filename) : 打开文件流\n",
    "        * root : 语料库的安装目录\n",
    "        * readme() : 语料库的readme文档\n",
    "* 加入自己的语料库\n",
    "    * 加入  \n",
    "        ```\n",
    "        from nltk.corpus import PlaintextCorpusReader\n",
    "        PlaintextCorpusReader(root_path, '.*')\n",
    "        ```\n",
    "    * 参数\n",
    "        * 第一个参数是语料库的绝对路径\n",
    "        * 第二个参数是fileids的文件名列表，当然可以使用正则表达式"
   ]
  },
  {
   "cell_type": "markdown",
   "metadata": {},
   "source": [
    "* 条件频率分布\n",
    "    * 条件频率分布其实本质上就是一个二维的分布表，数轴代表条件(文本的分类)，横轴代表事件(每个文本分类中词出现的数目)"
   ]
  },
  {
   "cell_type": "code",
   "execution_count": 60,
   "metadata": {
    "collapsed": false
   },
   "outputs": [
    {
     "name": "stdout",
     "output_type": "stream",
     "text": [
      "170576\n",
      "<FreqDist with 14394 samples and 100554 outcomes>\n"
     ]
    }
   ],
   "source": [
    "from nltk.corpus import brown\n",
    "# 条件事件二元组,条件是文体类别，事件是词\n",
    "genre_word = [(genre, word) for genre in ['news', 'romance'] for word in brown.words(categories=genre)]\n",
    "print(len(genre_word))\n",
    "cfd = nltk.ConditionalFreqDist(genre_word)\n",
    "# cfd.conditions()    # 条件，每一个条件含有一个事件分布freqdist对象\n",
    "print(cfd['news'])    # 是一个freqdist对象"
   ]
  },
  {
   "cell_type": "code",
   "execution_count": 70,
   "metadata": {
    "collapsed": false
   },
   "outputs": [
    {
     "name": "stdout",
     "output_type": "stream",
     "text": [
      "         the  may will \n",
      "   news 5580   66  389 \n",
      "romance 2758   11   43 \n"
     ]
    },
    {
     "data": {
      "image/png": "[encoded data removed]",
      "text/plain": [
       "<matplotlib.figure.Figure at 0x7f29667edd68>"
      ]
     },
     "metadata": {},
     "output_type": "display_data"
    }
   ],
   "source": [
    "%matplotlib inline\n",
    "# 在cfd的tabulate / plot中的参数conditions选择显示的条件，samples选择显示的事件，cumulative选择是否累计\n",
    "cfd.tabulate(conditions=['news', 'romance'], samples=['the', 'may', 'will'], cumulative=False)\n",
    "cfd.plot(conditions=['news', 'romance'], samples=['the', 'may', 'will'], cumulative=False)"
   ]
  },
  {
   "cell_type": "code",
   "execution_count": 4,
   "metadata": {
    "collapsed": false
   },
   "outputs": [
    {
     "name": "stdout",
     "output_type": "stream",
     "text": [
      "living creature that he said , and the land of the land of the land "
     ]
    }
   ],
   "source": [
    "# 随机文本生成\n",
    "def generate_model(cfdist, word, num=15):\n",
    "    # 生成文本的长度是15\n",
    "    for i in range(num):\n",
    "        print(word, end=' ')\n",
    "        word = cfdist[word].max()    # FreqDist的函数取频率最大的单词\n",
    "text = nltk.corpus.genesis.words('english-kjv.txt')\n",
    "bigrams = nltk.bigrams(text)    # 构造双连词,双连词刚好就是一个条件概率\n",
    "cfd = nltk.ConditionalFreqDist(bigrams)\n",
    "\n",
    "generate_model(cfd, 'living')"
   ]
  },
  {
   "cell_type": "markdown",
   "metadata": {},
   "source": [
    "* 词典资源  \n",
    "    词典资源是一个次或者短语的相关信息的描述\n",
    "    "
   ]
  },
  {
   "cell_type": "code",
   "execution_count": 75,
   "metadata": {
    "collapsed": false
   },
   "outputs": [
    {
     "name": "stdout",
     "output_type": "stream",
     "text": [
      "236736\n"
     ]
    }
   ],
   "source": [
    "from nltk.corpus import words\n",
    "print(len(words.words()))    # 显示nltk中的词典中的单词"
   ]
  },
  {
   "cell_type": "code",
   "execution_count": 77,
   "metadata": {
    "collapsed": false
   },
   "outputs": [
    {
     "name": "stdout",
     "output_type": "stream",
     "text": [
      "3136\n",
      "153\n"
     ]
    }
   ],
   "source": [
    "# 停用词语料库\n",
    "# 高频词汇例如the, to, and不仅没有多少实际的含义并且还会让文本分析变得困难\n",
    "from nltk.corpus import stopwords\n",
    "print(len(stopwords.words()))\n",
    "print(len(stopwords.words('english')))    # 英文153个停用词"
   ]
  },
  {
   "cell_type": "code",
   "execution_count": 82,
   "metadata": {
    "collapsed": false
   },
   "outputs": [
    {
     "name": "stdout",
     "output_type": "stream",
     "text": [
      "7944\n"
     ]
    },
    {
     "data": {
      "text/plain": [
       "['female.txt', 'male.txt']"
      ]
     },
     "execution_count": 82,
     "metadata": {},
     "output_type": "execute_result"
    }
   ],
   "source": [
    "# 姓名\n",
    "from nltk.corpus import names\n",
    "print(len(names.words()))\n",
    "names.fileids()"
   ]
  },
  {
   "cell_type": "markdown",
   "metadata": {},
   "source": [
    "* WordNet\n",
    "    * 意义和同义词\n",
    "        * synsets对象是一个同义词集合,包含很多的synset\n",
    "        * synset是一种同义词,包含很多的lemma\n",
    "        * lemma是一个词条\n",
    "            * 反义词 :\n",
    "                ```\n",
    "                wn.lemma(...).antonyms()\n",
    "                ```\n",
    "    * 层次结构\n",
    "        * 并不是所有的同义词集都存在对应的英文词汇\n",
    "        * 每个词根据具体的程度(抽象的程度)生成对应的词网，网中的词存在上下位关系\n",
    "    * 主从结构\n",
    "        * 整体和部分的关系定位\n",
    "    * 可视化\n",
    "        ```\n",
    "        nltk.app.wordnet()\n",
    "        ```"
   ]
  },
  {
   "cell_type": "code",
   "execution_count": 109,
   "metadata": {
    "collapsed": false
   },
   "outputs": [
    {
     "name": "stdout",
     "output_type": "stream",
     "text": [
      "['food', 'nutrient']\n",
      "any solid substance (as opposed to liquid) that is used as a source of nourishment\n",
      "['food and drink']\n",
      "[Lemma('car.n.01.car'), Lemma('car.n.01.auto'), Lemma('car.n.01.automobile'), Lemma('car.n.01.machine'), Lemma('car.n.01.motorcar')]\n",
      "Lemma('car.n.01.car')\n",
      "Synset('car.n.01')\n",
      "car\n"
     ]
    }
   ],
   "source": [
    "# car.n.01是同义词集合，其中包含有很多的词条,food这个次有很多的意思，每一个意思包很多的同义词集合\n",
    "from nltk.corpus import wordnet as wn\n",
    "print(wn.synset('food.n.01').lemma_names())    # 打印同义词的名称,该名词的第一个名词意义\n",
    "print(wn.synset('food.n.02').definition())\n",
    "print(wn.synset('food.n.02').examples())\n",
    "wn.synsets('food')   # 寻找该次对应的所有的含义的同义词集合\n",
    "\n",
    "# 查找词条\n",
    "print(wn.synset('car.n.01').lemmas())\n",
    "print(wn.lemma('car.n.01.car'))\n",
    "print(wn.lemma('car.n.01.car').synset())    # 对应的同义词集合\n",
    "print(wn.lemma('car.n.01.car').name())"
   ]
  },
  {
   "cell_type": "code",
   "execution_count": 123,
   "metadata": {
    "collapsed": false
   },
   "outputs": [
    {
     "name": "stdout",
     "output_type": "stream",
     "text": [
      "[Synset('ambulance.n.01'), Synset('beach_wagon.n.01'), Synset('bus.n.04'), Synset('cab.n.03'), Synset('compact.n.03'), Synset('convertible.n.01'), Synset('coupe.n.01'), Synset('cruiser.n.01'), Synset('electric.n.01'), Synset('gas_guzzler.n.01'), Synset('hardtop.n.01'), Synset('hatchback.n.01'), Synset('horseless_carriage.n.01'), Synset('hot_rod.n.01'), Synset('jeep.n.01'), Synset('limousine.n.01'), Synset('loaner.n.02'), Synset('minicar.n.01'), Synset('minivan.n.01'), Synset('model_t.n.01'), Synset('pace_car.n.01'), Synset('racer.n.02'), Synset('roadster.n.01'), Synset('sedan.n.01'), Synset('sport_utility.n.01'), Synset('sports_car.n.01'), Synset('stanley_steamer.n.01'), Synset('stock_car.n.01'), Synset('subcompact.n.01'), Synset('touring_car.n.01'), Synset('used-car.n.01')] <class 'list'>\n",
      "[Synset('motor_vehicle.n.01')]\n",
      "5\n",
      "0\n",
      "0.25\n"
     ]
    },
    {
     "data": {
      "text/plain": [
       "[Synset('entity.n.01')]"
      ]
     },
     "execution_count": 123,
     "metadata": {},
     "output_type": "execute_result"
    }
   ],
   "source": [
    "#　词网的层次结构体现\n",
    "motocar = wn.synset('car.n.01')\n",
    "type_of_motocar = motocar.hyponyms()    # 下位词网节点\n",
    "print(type_of_motocar, type(type_of_motocar))    # 是一个synsets生成的列表(可以这么理解)\n",
    "\n",
    "# 上位词网节点\n",
    "print(motocar.hypernyms())\n",
    "\n",
    "# 词网路径,找到从根到该词网节点的路径列表，路径可能不唯一\n",
    "paths = motocar.hypernym_paths()\n",
    "\n",
    "# 因为路径不唯一，所以一定存在共同上位词，存在方法找到最低的上位词可以表达两个词的关系\n",
    "# synset.lowest_common_hypernyms(synset)\n",
    "\n",
    "# 路径不唯一，我们可以从根到该词网节点的最低深度看出该词的具体程度\n",
    "print(wn.synset('whale.n.01').min_depth())\n",
    "print(wn.synset('entity.n.01').min_depth())\n",
    "\n",
    "# 利用路径深度，我们甚至可以看出来词义的相似程度\n",
    "print(wn.synset('monkey.n.01').path_similarity(wn.synset('human.n.01')))\n",
    "\n",
    "# 根上位,实体\n",
    "motocar.root_hypernyms()"
   ]
  },
  {
   "cell_type": "code",
   "execution_count": 117,
   "metadata": {
    "collapsed": false
   },
   "outputs": [
    {
     "name": "stdout",
     "output_type": "stream",
     "text": [
      "[Synset('burl.n.02'), Synset('crown.n.07'), Synset('limb.n.02'), Synset('stump.n.01'), Synset('trunk.n.01')]\n",
      "[Synset('heartwood.n.01'), Synset('sapwood.n.01')]\n",
      "[Synset('forest.n.01')]\n"
     ]
    }
   ],
   "source": [
    "print(wn.synset('tree.n.01').part_meronyms())    # 部分\n",
    "print(wn.synset('tree.n.01').substance_meronyms())    # 实质分类\n",
    "print(wn.synset('tree.n.01').member_holonyms())    # 集合分类"
   ]
  }
 ],
 "metadata": {
  "kernelspec": {
   "display_name": "Python3 NLTK",
   "language": "python",
   "name": "pythonnltk"
  },
  "language_info": {
   "codemirror_mode": {
    "name": "ipython",
    "version": 3
   },
   "file_extension": ".py",
   "mimetype": "text/x-python",
   "name": "python",
   "nbconvert_exporter": "python",
   "pygments_lexer": "ipython3",
   "version": "3.6.0"
  }
 },
 "nbformat": 4,
 "nbformat_minor": 2
}
