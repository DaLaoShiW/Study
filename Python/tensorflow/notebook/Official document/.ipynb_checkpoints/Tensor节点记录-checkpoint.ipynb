{
 "cells": [
  {
   "cell_type": "markdown",
   "metadata": {},
   "source": [
    "### Tensorflow Operator\n",
    "---\n",
    "\n",
    "1. `tf.Runoptions`\n",
    "2. `tf.group`\n",
    "3. `tf.no_op`"
   ]
  }
 ],
 "metadata": {
  "kernelspec": {
   "display_name": "Python3 NLTK",
   "language": "python",
   "name": "pythonnltk"
  },
  "language_info": {
   "codemirror_mode": {
    "name": "ipython",
    "version": 3
   },
   "file_extension": ".py",
   "mimetype": "text/x-python",
   "name": "python",
   "nbconvert_exporter": "python",
   "pygments_lexer": "ipython3",
   "version": "3.6.0"
  }
 },
 "nbformat": 4,
 "nbformat_minor": 2
}
