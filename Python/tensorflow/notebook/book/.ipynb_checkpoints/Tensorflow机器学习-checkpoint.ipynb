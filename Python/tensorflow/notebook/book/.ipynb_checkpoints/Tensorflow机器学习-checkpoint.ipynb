{
 "cells": [
  {
   "cell_type": "markdown",
   "metadata": {},
   "source": [
    "### Tensorflow有监督学习\n",
    "---\n",
    "1. 对带标注信息的数据进行学习，使得训练的推断模型可以良好的覆盖数据集并且能对其他的数据进行预测\n",
    "2. 训练方式\n",
    "    * 初始化模型参数\n",
    "    * 输入训练参数\n",
    "    * 在训练数据上执行推断\n",
    "    * 计算损失\n",
    "    * 调整模型参数 ： 学习的目的碍于通过大量的训练步骤改善各各参数的值，从而使得损失最小化(常用梯度下降策略)\n",
    "    \n",
    "3. 框架"
   ]
  },
  {
   "cell_type": "code",
   "execution_count": 2,
   "metadata": {
    "collapsed": false
   },
   "outputs": [
    {
     "ename": "TypeError",
     "evalue": "'NoneType' object is not iterable",
     "output_type": "error",
     "traceback": [
      "\u001b[0;31m---------------------------------------------------------------------------\u001b[0m",
      "\u001b[0;31mTypeError\u001b[0m                                 Traceback (most recent call last)",
      "\u001b[0;32m<ipython-input-2-e433cce3f3c6>\u001b[0m in \u001b[0;36m<module>\u001b[0;34m()\u001b[0m\n\u001b[1;32m     24\u001b[0m     \u001b[0mtf\u001b[0m\u001b[0;34m.\u001b[0m\u001b[0mglobal_variables_initializer\u001b[0m\u001b[0;34m(\u001b[0m\u001b[0;34m)\u001b[0m\u001b[0;34m\u001b[0m\u001b[0m\n\u001b[1;32m     25\u001b[0m     \u001b[0;31m# 读取训练集\u001b[0m\u001b[0;34m\u001b[0m\u001b[0;34m\u001b[0m\u001b[0m\n\u001b[0;32m---> 26\u001b[0;31m     \u001b[0mX\u001b[0m\u001b[0;34m,\u001b[0m \u001b[0mY\u001b[0m \u001b[0;34m=\u001b[0m \u001b[0minputs\u001b[0m\u001b[0;34m(\u001b[0m\u001b[0;34m)\u001b[0m\u001b[0;34m\u001b[0m\u001b[0m\n\u001b[0m\u001b[1;32m     27\u001b[0m \u001b[0;34m\u001b[0m\u001b[0m\n\u001b[1;32m     28\u001b[0m     \u001b[0mtotal_loss\u001b[0m \u001b[0;34m=\u001b[0m \u001b[0mloss\u001b[0m\u001b[0;34m(\u001b[0m\u001b[0mX\u001b[0m\u001b[0;34m,\u001b[0m \u001b[0mY\u001b[0m\u001b[0;34m)\u001b[0m    \u001b[0;31m# Op\u001b[0m\u001b[0;34m\u001b[0m\u001b[0m\n",
      "\u001b[0;31mTypeError\u001b[0m: 'NoneType' object is not iterable"
     ]
    }
   ],
   "source": [
    "def inference(X):\n",
    "    # 计算模型的在数据上的输出，返回结果\n",
    "    pass\n",
    "\n",
    "def loss(X, Y):\n",
    "    # 计算训练集上的损失\n",
    "    pass\n",
    "\n",
    "def inputs():\n",
    "    # 读取训练数据\n",
    "    pass\n",
    "\n",
    "def train(total_loss):\n",
    "    # 按照总的损失修正模型的参数\n",
    "    pass\n",
    "\n",
    "def evaluate(sess, X, Y):\n",
    "    # 对模型评估\n",
    "    pass\n",
    "\n",
    "# 开启框架流程\n",
    "with tf.Session() as sess:\n",
    "    # 初始化变量\n",
    "    tf.global_variables_initializer()\n",
    "    # 读取训练集\n",
    "    X, Y = inputs()\n",
    "    \n",
    "    total_loss = loss(X, Y)    # Op\n",
    "    train_op = train(total_loss)    # Op\n",
    "    \n",
    "    # 开启线程管理器，并启动QueueRunner(文件名队列和样本队列，文件名队列使用string_input_producer构建，样本队列可以自己构建，但是还必须要制定对应的QueueRunner)\n",
    "    coord = tf.train.Coordinator()\n",
    "    threads = tf.train.start_queue_runners(sess = sess, coord = coord)\n",
    "    \n",
    "    # 这里可以加入实际上的saver函数提取模型参数信息\n",
    "    # ...\n",
    "    \n",
    "    # 实际的训练\n",
    "    train_steps = 1000\n",
    "    for step in range(train_steps):\n",
    "        sess.run([train_op])\n",
    "        if step % 10 == 0:\n",
    "            print(\"loss: \", sess.run([total_loss]))\n",
    "    \n",
    "    # 评估\n",
    "    evaluate(sess, X, Y)\n",
    "    coord.request_stop()\n",
    "    coord.join()\n",
    "    sess.close()"
   ]
  },
  {
   "cell_type": "markdown",
   "metadata": {},
   "source": [
    "### Tensorflow Saver检查点对象\n",
    "---\n",
    "1. 及时的将数据保存在磁盘中，保证在系统钓点之后，可以通过检查点回复之前的运行数据,默认只保存5个文件\n",
    "\n",
    "2. 创建Saver对象\n",
    "\n",
    "    `saver = tf.train.Saver()`\n",
    "    \n",
    "3. 写入保存数据\n",
    "\n",
    "    `saver.save(sess, 'model-param', global_step = step)`\n",
    "    \n",
    "4. 恢复数据\n",
    "\n",
    "    `saver.restore(sess, save_path)`\n",
    "    "
   ]
  },
  {
   "cell_type": "markdown",
   "metadata": {},
   "source": [
    "### Tensorflow 机器学习基础\n",
    "---\n",
    "1. 线性回归模型\n",
    "    \n",
    "    1. 模型\n",
    "        \n",
    "        $$Y=W^TX+b$$\n",
    "        \n",
    "    2. `Y` 是预测值, X是输入列向量, W是参数列向量, b是线性偏置\n",
    "    \n",
    "2.　对数几率回归 :  \n",
    "    \n",
    "    1.详见`deeplearning.ai`\n",
    "    2.输出概率"
   ]
  },
  {
   "cell_type": "code",
   "execution_count": 4,
   "metadata": {
    "collapsed": false
   },
   "outputs": [
    {
     "name": "stdout",
     "output_type": "stream",
     "text": [
      "Tensor(\"Shape_3:0\", shape=(2,), dtype=int32)\n",
      "8.23181e+06\n",
      "5.27171e+06\n",
      "5.2698e+06\n",
      "5.26864e+06\n",
      "5.26752e+06\n",
      "5.2664e+06\n",
      "5.26529e+06\n",
      "5.26417e+06\n",
      "5.26306e+06\n",
      "5.26194e+06\n",
      "[[ 321.54193115]]\n",
      "[[ 268.51971436]]\n"
     ]
    }
   ],
   "source": [
    "# 线性回归模型\n",
    "w = tf.Variable(tf.zeros([2, 1]), name='weights')\n",
    "b = tf.Variable(0., name='bias')\n",
    "\n",
    "# 计算预测结果\n",
    "def inference(X):\n",
    "    return tf.matmul(X, w) + b\n",
    "\n",
    "# 使用最小二乘法计算损失函数\n",
    "def loss(X, Y):\n",
    "    Y_ = inference(X)\n",
    "    return tf.reduce_sum(tf.squared_difference(Y, Y_))\n",
    "\n",
    "# 输入数据获取\n",
    "def inputs():\n",
    "    # X\n",
    "    weight_age = [[84, 46], [73, 20], [65, 52], [70, 30], [76, 57], [69, 25],\n",
    "                   [63, 28], [72, 36], [79, 57], [75, 44], [27, 24], [89, 31], \n",
    "                   [65, 52], [57, 23], [59, 60], [69, 48], [60, 34], [79, 51],\n",
    "                   [75, 50], [82, 34], [59, 46], [67, 23], [85, 37], [55, 40], [63, 30]]\n",
    "    # Y\n",
    "    blood_fat_content = [354, 190, 405, 263, 451, 302, 288, 385, 402, 365, 209,\n",
    "                         346, 254, 395, 434, 220, 374, 308, 220, 311, 181, 274, 303, 244]\n",
    "    # 这里使用 tf.cast　可以达到同样的效果\n",
    "    return tf.to_float(weight_age), tf.to_float(blood_fat_content)\n",
    "\n",
    "# 训练函数\n",
    "def train(total_loss):\n",
    "    learn_rate = 0.0000001\n",
    "    return tf.train.GradientDescentOptimizer(learning_rate=learn_rate).minimize(total_loss)\n",
    "\n",
    "# 评估函数\n",
    "def evaluate(sess, X, Y):\n",
    "    print(sess.run(inference([[80., 25.]])))\n",
    "    print(sess.run(inference([[65., 25.]])))\n",
    "\n",
    "with tf.Session() as sess:\n",
    "    # 初始化变量\n",
    "    init_op = tf.global_variables_initializer()\n",
    "    sess.run(init_op)\n",
    "    \n",
    "    x, y = inputs()\n",
    "    # print(sess.run(tf.shape(x)))\n",
    "    l = loss(x, y)\n",
    "    train_op = train(l)\n",
    "    for i in range(1000):\n",
    "        sess.run(train_op)\n",
    "        if i % 100 == 0:\n",
    "            print(sess.run(loss(x, y)))\n",
    "    \n",
    "    # 评估\n",
    "    evaluate(sess, x, y)"
   ]
  }
 ],
 "metadata": {
  "kernelspec": {
   "display_name": "Python 3 ML",
   "language": "python",
   "name": "pythonml"
  },
  "language_info": {
   "codemirror_mode": {
    "name": "ipython",
    "version": 3
   },
   "file_extension": ".py",
   "mimetype": "text/x-python",
   "name": "python",
   "nbconvert_exporter": "python",
   "pygments_lexer": "ipython3",
   "version": "3.6.0"
  }
 },
 "nbformat": 4,
 "nbformat_minor": 2
}
