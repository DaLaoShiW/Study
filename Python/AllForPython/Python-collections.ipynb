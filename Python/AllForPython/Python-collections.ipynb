{
 "cells": [
  {
   "cell_type": "markdown",
   "metadata": {},
   "source": [
    "### collections.namedtuple\n",
    "命名元组对象\n",
    "\n",
    "---\n",
    "\n",
    "namedtuple可以创建自定义tuple对象，可以对tuple针对的性的设定元素数目，并且支持索引访问，构成了一种单一的数据结构，是tuple的一个子类"
   ]
  },
  {
   "cell_type": "code",
   "execution_count": 1,
   "metadata": {
    "collapsed": false
   },
   "outputs": [
    {
     "name": "stdout",
     "output_type": "stream",
     "text": [
      "1 2 <class 'type'> True\n",
      "---------------------------------------------\n",
      "['lantian', 'xxxxxxx']\n",
      "lantian xxxxxxx\n",
      "['yeqi', '......']\n",
      "yeqi ......\n"
     ]
    }
   ],
   "source": [
    "# 这里对于collections模块中的详细介绍的对象是namedtuple命名元组对象\n",
    "from collections import namedtuple\n",
    "\n",
    "Point = namedtuple(\"Point\" , ['x','y'])    #　创建名为Point的点类，属性是x,y\n",
    "p = Point(1 , 2)\n",
    "print(p.x , p.y , type(Point) , isinstance(p , tuple))\n",
    "\n",
    "print(\"---------------------------------------------\")\n",
    "\n",
    "heading = ['username' , 'userpassword']\n",
    "Row = namedtuple('Row' , heading)    # 创建一个username , userpassword为属性的类\n",
    "\n",
    "r = [['lantian','xxxxxxx'],['yeqi','......']]\n",
    "\n",
    "for i in r:\n",
    "    print(i)\n",
    "    row = Row(*i)    # row对象是不断更改的,序列解包\n",
    "    print(row.username , row.userpassword)"
   ]
  },
  {
   "cell_type": "markdown",
   "metadata": {},
   "source": [
    "### collections.defaultdict\n",
    "---\n",
    "\n",
    "1. 如果键不存在可以根据默认的数据类型返回具体的**默认值**\n",
    "2. `defaultdict` 接收一个工厂函数作为参数, 例如 `int str list tuple set` 等.  \n",
    "   `defaultdict` 在 `dict` 的基础上添加了一个 `missing(key)` 方法, 在调用一个不存的 `key` 的时候, `defaultdict` 会调用 `__missing__` , 返回一个根据 `default_factory` 参数的默认值, 所以不会返回 `Keyerror`.\n",
    "3. 使用 `defaultdict` 可以方便快捷的构建一个图(Python语法的树)\n",
    "    1. 使用默认的类型是容器类型 : `list tuple set` 类型可以实现\n",
    "    2. 读入图的时候，可以将所有的节点的出边保存在一个 `defaultdict(list)` 中，每一次发现一个边，加入到对应的 `list` 中去"
   ]
  },
  {
   "cell_type": "code",
   "execution_count": 1,
   "metadata": {
    "collapsed": false
   },
   "outputs": [
    {
     "name": "stdout",
     "output_type": "stream",
     "text": [
      "0\n"
     ]
    }
   ],
   "source": [
    "from collections import defaultdict\n",
    "\n",
    "# dict and defaultdict, defaultdict is the int type.\n",
    "a = dict()\n",
    "b = defaultdict(int)\n",
    "\n",
    "try:\n",
    "    # print(a['a'])\n",
    "    print(b['a'])\n",
    "except Exception as e:\n",
    "    print(e)"
   ]
  },
  {
   "cell_type": "markdown",
   "metadata": {},
   "source": [
    "### collections.Counter\n",
    "---\n",
    "\n",
    "1. 字典类型的子类，用来计算**容器元素**中的元素出现次数，有时候也叫词袋或者是多子类\n",
    "    * 输入可以是容器对象\n",
    "    * 输入可以是很多的独立的键值组成的多参数输入(见下面的示例)\n",
    "2. 元素被排序作为词典的键，他们出现的次数(**在运算后可以允许变成0或者是负数**)被存储在词典作为键值\n",
    "3. 创建一个新的空的统计对象\n",
    "4. 具有和 `Python-Dict` 的类似的 `API`\n",
    "    * `.keys()`\n",
    "    * `.values()`\n",
    "    * `.items()`\n",
    "    * `p['a']`\n",
    "    * `.clear()`"
   ]
  },
  {
   "cell_type": "code",
   "execution_count": 16,
   "metadata": {
    "collapsed": false
   },
   "outputs": [
    {
     "name": "stdout",
     "output_type": "stream",
     "text": [
      "[('a', 5), ('b', 4), ('c', 3)]\n",
      "['a', 'b', 'c', 'd', 'e']\n",
      "['d', 'd', 'b', 'b', 'b', 'b', 'e', 'c', 'c', 'c', 'a', 'a', 'a', 'a', 'a']\n",
      "dict_values([2, 4, 1, 3, 5])\n",
      "dict_keys(['d', 'b', 'e', 'c', 'a']) dict_values([2, 4, 1, 3, 5]) dict_items([('d', 2), ('b', 4), ('e', 1), ('c', 3), ('a', 5)]) 5\n",
      "--------------------\n",
      "Counter({'b': 2, 'a': 1})\n"
     ]
    }
   ],
   "source": [
    "from collections import Counter\n",
    "p = Counter('abcdeabcdabcaba')    # 从字符串这中统计数据出现的次数\n",
    "print(p.most_common(3))           # 只打印出现次数最多的3个元素\n",
    "print(sorted(p))                  # 按照元素的出现的频度排序生成所有的元素\n",
    "print(list(p.elements()))         # 重复的打印数据\n",
    "print(p.values())                 # 每一个元素出现的次数\n",
    "# 和 dict 类似的 API\n",
    "print(p.keys(), p.values(), p.items(), p['a'])\n",
    "\n",
    "# 其他的构建方式\n",
    "print('-' * 20) \n",
    "p = Counter(a=1, b=2)\n",
    "print(p)"
   ]
  }
 ],
 "metadata": {
  "kernelspec": {
   "display_name": "Python 3",
   "language": "python",
   "name": "python3"
  },
  "language_info": {
   "codemirror_mode": {
    "name": "ipython",
    "version": 3
   },
   "file_extension": ".py",
   "mimetype": "text/x-python",
   "name": "python",
   "nbconvert_exporter": "python",
   "pygments_lexer": "ipython3",
   "version": "3.5.2"
  }
 },
 "nbformat": 4,
 "nbformat_minor": 2
}
