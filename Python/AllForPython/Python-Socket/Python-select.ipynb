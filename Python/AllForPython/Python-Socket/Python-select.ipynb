{
 "cells": [
  {
   "cell_type": "markdown",
   "metadata": {
    "collapsed": true
   },
   "source": [
    "### Python select - I/O 异步检测\n",
    "---\n",
    "1. `select.select`\n",
    "    * [参考链接](http://blog.sina.com.cn/s/blog_704b6af70100novc.html)\n",
    "    * API : `select.select(rlist, wlist, xlist[, timeout])`\n",
    "        1. 对 `Unix / Linux` 的有效的事件分发器，直接的系统调用的接口\n",
    "        2. `rlist` : 等待的读文件描述符，可以包含 `sys.stdin`\n",
    "        3. `wlist` : 等待的写文件描述符,可以包含 `sys.stdout`\n",
    "        4. `xlist` : 等待的错误和异常的描述符\n",
    "        5. `timeout` : 超时设置，可以是整数也可是是浮点数，表示的单位是 `s`, 当然 `timeout` 的阻塞效果只有在三个列表都是空的时候才会阻塞，默认的时候是全阻塞模式(一直阻塞到有一个文件描述符可以被调用的时候)，否则就会一直的阻塞 `timeout` 函数轮训这个过程\n",
    "        6. 返回值是 `rlist`, `wlist`, `xlist` 的对应列表，如果我们设置了 `timeout` 的话，三个列表一直是空将会导致函数阻塞等待\n",
    "    * 注意点\n",
    "        * 如果我们发现 `socket` 链接已经被关闭 (`broken pipe`)的话，我们必须要谨慎的关闭 `socket` 并将对应的 `socket` 移出 `rlist` 中，因为关闭的 `socket` 会持续的发送 `b\"\"` 到对应连接的 `socket` 中，造成不必要的麻烦，主要将这个错误的 `socket` 文件描述符退出 `select` 检测可读取文件列表中即可避免这样的错误\n",
    "2. `select.epoll`\n",
    "\n",
    "\n",
    "---\n",
    "### Python selectors - I/O 异步检测高级封装\n",
    "官方文档建议使用\n",
    "\n",
    "---"
   ]
  }
 ],
 "metadata": {
  "kernelspec": {
   "display_name": "Python 3",
   "language": "python",
   "name": "python3"
  },
  "language_info": {
   "codemirror_mode": {
    "name": "ipython",
    "version": 3
   },
   "file_extension": ".py",
   "mimetype": "text/x-python",
   "name": "python",
   "nbconvert_exporter": "python",
   "pygments_lexer": "ipython3",
   "version": "3.5.2"
  }
 },
 "nbformat": 4,
 "nbformat_minor": 2
}
