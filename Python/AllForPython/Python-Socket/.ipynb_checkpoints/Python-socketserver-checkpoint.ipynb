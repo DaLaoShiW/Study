{
 "cells": [
  {
   "cell_type": "markdown",
   "metadata": {},
   "source": [
    "### socketserver\n",
    "简化了编写网络服务器的方式\n",
    "\n",
    "---\n",
    "\n",
    "该模块中包含有 5 个类\n",
    "1. `class socketserver.BaseServer` \n",
    "    所有的服务器类的基类，基础的构建部分合适的服务器构建属性和操作\n",
    "2. `class socketserver.TCPServer(server_address, RequestHandlerClass, bind_and_activate=True)`  \n",
    "    利用 `TCP` 连接，在服务器和客户端之间提供流式的数据传输,如果属性 `bing_and_activate=True` 构造函数会自动的调用\n",
    "    `server_bind`, `server_activate` 启动服务器，其他的传入属性自动继承自 `BaseServer` 类\n",
    "3. `class socketserver.UDPServer(server_address, RequestHandlerClass, bind_and_activate=True)`  \n",
    "    利用 `UDP` 连接，使用功能数据报的方式，离散的发送数据包，可能会丢失\n",
    "4. `class socketserver.UnixStreamServer(server_address, RequestHandlerClass, bind_and_activate=True)`\n",
    "5. `class socketserver.UnixDatagramServer(server_address, RequestHandlerClass, bind_and_activate=True)`  \n",
    "    4,5类实际上参数和 `TCP` 等是一样的，但是实际上这两个类只能在 `Unix` 系统上运行，是 `Unix` 域的套接字\n",
    "    \n",
    "上述的 4 个主要的类的处理实际上是同步的处理，这意味着下一个请求只能在上一个请求完成之后才可以运行，但是这是不合适的，因为有可能请求非常的消耗时间(慢客户端,一直在传输文件，其他的客户端就没有办法连接上，这时候需要对服务器采用多线程)，解决这个的方案就是 **创建额外的线程或者是进程单独处理每一个连接请求操作**\n",
    "\n",
    "异步的执行的话，可以考虑类 `ThreadingMixIn`, `ForkingMixIn`，当继承这两个类的时候，我们需要明确的指定当线程意外的终止的时候如何表现，`ThreadingMixIn` 类定义了一个属性 `daemon_threads`,这表明服务器是否应该等待线程终止。如果想要线程可以自主的运行就要设置这个属性，默认的情况下，Python中服务器会自动的等待所有的线程结束。如果某个客户端接受或处理数据花了很长时间，服务器无需等待处理完成，即可使用另外的线程和其他客户端进行通信。\n",
    "\n",
    "**类不论使用的是什么协议，外部的属性和方法的调用和使用方式是一致的**"
   ]
  },
  {
   "cell_type": "code",
   "execution_count": null,
   "metadata": {
    "collapsed": true
   },
   "outputs": [],
   "source": [
    "+------------+\n",
    "| BaseServer |\n",
    "+------------+\n",
    "      |\n",
    "      v\n",
    "+-----------+        +------------------+\n",
    "| TCPServer |------->| UnixStreamServer |\n",
    "+-----------+        +------------------+\n",
    "      |\n",
    "      v\n",
    "+-----------+        +--------------------+\n",
    "| UDPServer |------->| UnixDatagramServer |\n",
    "+-----------+        +--------------------+"
   ]
  },
  {
   "cell_type": "markdown",
   "metadata": {},
   "source": [
    "---\n",
    "创建服务器的步骤\n",
    "\n",
    "1. 创建一个**请求处理类**( `BaseRequestHandle` 类的子类，继承得到)，并且覆写 `handle()` 方法，该方法会处理得到的请求\n",
    "2. 实例化一个服务器类，创给该类当前主机的地址和一个请求处理类，建议使用 `with` 使用服务器类，在 `with` 中会调用功能 `serve_forever`, `handle_request` 方法执行服务器去处理一个或者多个请求，如果使用 `with` 语句的话，就不需要使用 `server_close` 关闭服务器"
   ]
  },
  {
   "cell_type": "markdown",
   "metadata": {},
   "source": [
    "---\n",
    "其他类的用法\n",
    "1. `class socketserver.ForkingMixIn` : 多进程(多路复用)套接字，异步处理客户端无需阻塞\n",
    "2. `class socketserver.ThreadingMixIn` : 多线程套接字,对于共享变量请使用线程锁\n",
    "\n",
    "上面的类可以用来辅助创建一个功能强大的异步服务器( `TCP` / `UDP` )  \n",
    "下面的类只能支持 `POSIX` 平台\n",
    "\n",
    "1. `class socketserver.ForkingTCPServer`\n",
    "2. `class socketserver.ForkingUDPServer`\n",
    "3. `class socketserver.ThreadingTCPServer`\n",
    "4. `class socketserver.ThreadingUDPServer`\n",
    "\n",
    "上面的类是使用之前的类预定义形成的"
   ]
  },
  {
   "cell_type": "code",
   "execution_count": 4,
   "metadata": {
    "collapsed": false
   },
   "outputs": [],
   "source": [
    "from socketserver import *\n",
    "\n",
    "class ThreadingUDPServer(ThreadingMixIn, UDPServer):\n",
    "    '''\n",
    "    使用 UDPServer 可以省去手动创建服务器操作，如创建套接字、绑定地址和监听连接等\n",
    "    使用 ThreadingMixIn 可以辅助创建一个强大的异步处理器\n",
    "    混合继承，并且 ThreadingMixIn 必须放在第一个继承的位置，因为会重写 UDPServer 中的一个函数\n",
    "    '''\n",
    "    pass"
   ]
  },
  {
   "cell_type": "markdown",
   "metadata": {},
   "source": [
    "为了启动服务，必须创建一个请求服务类,从 `BaseRequestHandle` 中继承并复写 `handle` 方法，可以将该类结合到不同的服务器类上以在不同的服务下执行相同的请求执行程序，对于不同的服务类型( `TCP` / `UDP` )，可以采用请求服务类的子类 `StreamRequestHandler`, `DatagramRequestHandler.`"
   ]
  },
  {
   "cell_type": "markdown",
   "metadata": {},
   "source": [
    "---\n",
    "服务器对象方法\n",
    "1. `class socketserver.BaseServer(server_address, RequestHandlerClass)`  \n",
    "    是所有的类的超类，定义的接口并不是所有的都有实现，有的需要在子类中实现，存储的参数有 `server_address`, `RequestHandlerClass`\n",
    "    * `handle_request()`  \n",
    "        处理请求，会在内部执行函数 `get_request()`, `verify_request()`, `process_request()`\n",
    "        线程处理是存在有限定时间的，到时间没有请求出现会返回程序,或者说用户定义的 `handle` 出现异常返回的话，也会返回\n",
    "    * `serve_forever(poll_interval=0.5)`\n",
    "        处理请求直到服务器停止，`poll_interval` 是轮询的间隔\n",
    "    * `server_address` : 服务器地址返回，如果是 Inet 协议，返回为 `(address, port)`\n",
    "    * `timeout` : 请求时长限定\n",
    "    * `socket_type` : socket协议的类型\n",
    "    \n",
    "2. `class socketserver.BaseRequestHandler` : 请求处理对象的超类  \n",
    "    **每一个请求需要实例化一个请求处理对象并且实在服务器中自动实例化的，并且需要对其中的 `handle` 方法进行重写**\n",
    "    * `setup()` : \n",
    "        在执行 `handle` 之前进行相应的初始化操作，默认是空\n",
    "    * `handle()` :   \n",
    "        执行服务一个请求的所有操作，默认是空，需要覆写\n",
    "        可以访问请求处理对象的几个参数 `self.request`, `self.client_address`, `self.server`, 以便请求处理操作需要从这些参数中获取对应的信息  \n",
    "        `self.request` 属性在不同的协议中还是不同的，在流式 `TCP` 协议中， `self.request` 是一个和远程的 `client` 连接的 `socket` 对象(**意味着，之前的 `socket.socket` 的所有接口可以使用包括读写等等**)，但是在 `UDP` 协议中， `self.request` 是一个 `(string, socket)`\n",
    "    * `finish()`\n",
    "        在 `handle()` 函数执行之后需要执行的清理操作，默认是空，如果 `setup()` 函数异常终止该函数不会被调用\n",
    "        \n",
    "3. `class socketserver.StreamRequestHandler` || `class socketserver.DatagramRequestHandler`  \n",
    "    请求处理对象类的子类，并且对 `BaseRequstHandler` 类的 `setup(), finish()` 方法进行了封装和实现\n",
    "    并且提供了新的封装参数 `self.rfile, self.wfile` 用来对套接字进行数据发送和数据获取\n",
    "    其中的 `self.rfile` 其实本质上是对 `socket.recv` 多次调用(直到遇到换行符号停止接收)\n",
    "    **需要注意的一点是，因为 `self.rfile` 本质上是对文件描述符的获取，所以客户端发送数据的时候必须要在末尾发送 `\\n`,以确保我们使用 `self.rfile.readline()` 可以及时的读取到数据**\n",
    "    \n",
    "**请求处理对象可以从 `socketserver.BaseRequestHandler`, `socketserver.StreamRequestHandler`, `socketserver.DatagramRequestHandler` 三个中任意一个进行继承**"
   ]
  },
  {
   "cell_type": "code",
   "execution_count": null,
   "metadata": {
    "collapsed": true
   },
   "outputs": [],
   "source": [
    "# 对于没有使用异步的时候，服务器采用的是单线程，如果来到一个慢客户端，其他的客户端的请求会被阻塞\n",
    "# 服务端\n",
    "#!/usr/bin/python\n",
    "\n",
    "import socketserver\n",
    "import threading\n",
    "\n",
    "class MyTCPHandle(socketserver.BaseRequestHandler):\n",
    "    def handle(self):\n",
    "        # self.request is the TCP socket for the remote client\n",
    "        self.data = self.request.recv(1024)\n",
    "        # print the client_address\n",
    "        print(\"connected by\", self.client_address, threading.current_thread())\n",
    "        print(self.data)\n",
    "        self.request.sendall(self.data)\n",
    "\n",
    "class myTCPHandle(socketserver.StreamRequestHandler):\n",
    "    def handle(self):\n",
    "        while self.rfile.readline().strip():\n",
    "            self.data = self.rfile.readline().strip()\n",
    "            print(\"connected by\", self.client_address, threading.current_thread(), self.data)\n",
    "            self.wfile.write(self.data)\n",
    "\n",
    "if __name__ == \"__main__\":\n",
    "    host, port = '', 9998\n",
    "    print(threading.current_thread())\n",
    "    with socketserver.TCPServer((host, port), myTCPHandle) as server:\n",
    "        server.serve_forever()"
   ]
  },
  {
   "cell_type": "code",
   "execution_count": null,
   "metadata": {
    "collapsed": true
   },
   "outputs": [],
   "source": [
    "# 慢客户端，会阻塞其他的客户端，需要对主机采用多线程处理\n",
    "#!/usr/bin/python\n",
    "\n",
    "import socket\n",
    "import sys\n",
    "import time\n",
    "\n",
    "host, port = '', 9998\n",
    "data = \"lantian\\n\"\n",
    "\n",
    "with socket.socket(socket.AF_INET, socket.SOCK_STREAM) as sock:\n",
    "    sock.connect((host, port))\n",
    "    for i in range(1000):\n",
    "        data = str(i) + '\\n'\n",
    "        sock.send(data.encode())\n",
    "        time.sleep(1)\n",
    "        print(i)"
   ]
  },
  {
   "cell_type": "code",
   "execution_count": null,
   "metadata": {
    "collapsed": true
   },
   "outputs": [],
   "source": [
    "# 多路复用的服务端,上述的实验是可以成功的将每一个客户端的连接请求分配在一个线程中去运行，不会阻塞(影响)其他的客户端正常工作\n",
    "#!/usr/bin/python\n",
    "\n",
    "import socketserver\n",
    "import threading\n",
    "import socket\n",
    "import time\n",
    "\n",
    "class MyTCPHandle(socketserver.BaseRequestHandler):\n",
    "    def handle(self):\n",
    "        # self.request is the TCP socket for the remote client\n",
    "        p = self.request.recv(1024)\n",
    "        while p:\n",
    "            print(p)\n",
    "            p = self.request.recv(1024)\n",
    "            # print the client_address\n",
    "        print(\"connected by\", self.client_address, threading.current_thread())\n",
    "        data = self.data.decode() + str(threading.current_thread)\n",
    "        self.request.sendall(data.encode())\n",
    "\n",
    "class myTCPHandle(socketserver.StreamRequestHandler):\n",
    "    def handle(self):\n",
    "        while self.rfile.readline().strip():\n",
    "            self.data = self.rfile.readline().strip()\n",
    "            print(\"connected by\", self.client_address, threading.current_thread(), self.data)\n",
    "            self.wfile.write(self.data)\n",
    "\n",
    "class threadedtcpserver(socketserver.ThreadingMixIn, socketserver.TCPServer):\n",
    "    pass\n",
    "\n",
    "def client(ip, port, message):\n",
    "    with socket.socket(socket.AF_INET, socket.SOCK_STREAM) as sock:\n",
    "        sock.connect((ip, port))\n",
    "        data = message + '\\n'\n",
    "        sock.sendall(data.encode())\n",
    "        response = sock.recv(1024).decode()\n",
    "        print('response', response)\n",
    "        time.sleep(10)\n",
    "\n",
    "def client_slow(ip, port):\n",
    "    with socket.socket(socket.AF_INET, socket.SOCK_STREAM) as sock:\n",
    "        sock.connect((ip, port))\n",
    "        for i in range(1000):\n",
    "            sock.send(str(i).encode())\n",
    "            print(i)\n",
    "            time.sleep(1)\n",
    "\n",
    "if __name__ == \"__main__\":\n",
    "    host, port = '', 9998\n",
    "    \n",
    "    server = threadedtcpserver((host, port), MyTCPHandle)\n",
    "    with server:\n",
    "        ip, port = server.server_address\n",
    "        server.serve_forever()\n",
    "        # slow_thread = threading.Thread(target = client_slow, args = (ip, port, ))\n",
    "        # slow_thread.start()\n",
    "        # client(ip, port, \"fuck you 1\")\n",
    "        # client(ip, port, \"fuck you 2\")\n",
    "        # client(ip, port, \"fuck you 3\")"
   ]
  }
 ],
 "metadata": {
  "kernelspec": {
   "display_name": "Python 3",
   "language": "python",
   "name": "python3"
  },
  "language_info": {
   "codemirror_mode": {
    "name": "ipython",
    "version": 3
   },
   "file_extension": ".py",
   "mimetype": "text/x-python",
   "name": "python",
   "nbconvert_exporter": "python",
   "pygments_lexer": "ipython3",
   "version": "3.5.2"
  }
 },
 "nbformat": 4,
 "nbformat_minor": 2
}
