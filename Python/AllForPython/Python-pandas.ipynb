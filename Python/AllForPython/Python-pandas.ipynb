{
 "cells": [
  {
   "cell_type": "code",
   "execution_count": 3,
   "metadata": {},
   "outputs": [
    {
     "data": {
      "text/plain": [
       "nan"
      ]
     },
     "execution_count": 3,
     "metadata": {},
     "output_type": "execute_result"
    }
   ],
   "source": [
    "# import the pandas\n",
    "import pandas as pd\n",
    "import numpy as np"
   ]
  },
  {
   "cell_type": "markdown",
   "metadata": {},
   "source": [
    "pandas is just like a dict of the numpy, and we can named the different dimension."
   ]
  },
  {
   "cell_type": "code",
   "execution_count": 15,
   "metadata": {},
   "outputs": [
    {
     "name": "stdout",
     "output_type": "stream",
     "text": [
      "0     1.0\n",
      "1     3.0\n",
      "2     5.0\n",
      "3     NaN\n",
      "4    44.0\n",
      "5     1.0\n",
      "dtype: float64\n"
     ]
    }
   ],
   "source": [
    "# a array in pandas\n",
    "s = pd.Series([1, 3, 5, np.nan, 44, 1])\n",
    "\n",
    "# index and number, also show the type\n",
    "print(s)"
   ]
  },
  {
   "cell_type": "code",
   "execution_count": 14,
   "metadata": {},
   "outputs": [
    {
     "name": "stdout",
     "output_type": "stream",
     "text": [
      "DatetimeIndex(['2016-01-01', '2016-01-02', '2016-01-03', '2016-01-04',\n",
      "               '2016-01-05', '2016-01-06'],\n",
      "              dtype='datetime64[ns]', freq='D')\n",
      "                   a         b         c         d\n",
      "2016-01-01  1.259086  0.173645 -0.496698  0.781653\n",
      "2016-01-02 -2.308323  0.005400  0.329517 -0.695501\n",
      "2016-01-03  0.524288  0.138693 -0.048773  0.576691\n",
      "2016-01-04 -0.319599 -0.033846  0.395082  1.055901\n",
      "2016-01-05  0.833756 -1.015946  0.409716  0.880464\n",
      "2016-01-06  0.850031 -0.253158  0.435153  1.077864\n",
      "          0         1         2         3\n",
      "0  0.360105  0.640561  0.880581  0.873057\n",
      "1  0.289805  0.903418  0.982025  0.029698\n",
      "2  0.631548  0.704561  0.818059  0.454087\n",
      "3  0.311996  0.963946  0.988691  0.744063\n",
      "4  0.402752  0.835969  0.230570  0.987275\n",
      "5  0.516988  0.064411  0.717684  0.481174\n"
     ]
    }
   ],
   "source": [
    "# a matrix in pandas (dataframe)\n",
    "dates = pd.date_range('20160101', periods=6)\n",
    "print(dates)\n",
    "\n",
    "# index default is number (0, 1, ...), but we use the index we created (dates)\n",
    "# index and columns can be created before\n",
    "df = pd.DataFrame(np.random.randn(6, 4), index = dates, columns=['a', 'b', 'c', 'd'])\n",
    "print(df)\n",
    "\n",
    "# defualt use number from zero to index\n",
    "df2 = pd.DataFrame(np.random.rand(6,4))\n",
    "print(df2)\n",
    "\n",
    "# we can also use dict to create dataframe\n",
    "# or import from numpy"
   ]
  },
  {
   "cell_type": "code",
   "execution_count": 17,
   "metadata": {},
   "outputs": [
    {
     "name": "stdout",
     "output_type": "stream",
     "text": [
      "a    float64\n",
      "b    float64\n",
      "c    float64\n",
      "d    float64\n",
      "dtype: object\n"
     ]
    }
   ],
   "source": [
    "print(df.dtypes)   # show the columns' dtypes"
   ]
  },
  {
   "cell_type": "code",
   "execution_count": 21,
   "metadata": {},
   "outputs": [
    {
     "name": "stdout",
     "output_type": "stream",
     "text": [
      "DatetimeIndex(['2016-01-01', '2016-01-02', '2016-01-03', '2016-01-04',\n",
      "               '2016-01-05', '2016-01-06'],\n",
      "              dtype='datetime64[ns]', freq='D') \n",
      " Index(['a', 'b', 'c', 'd'], dtype='object')\n"
     ]
    }
   ],
   "source": [
    "print(df.index ,'\\n', df.columns)    # get the index and columns"
   ]
  },
  {
   "cell_type": "code",
   "execution_count": 23,
   "metadata": {},
   "outputs": [
    {
     "name": "stdout",
     "output_type": "stream",
     "text": [
      "[[ 1.2590863   0.17364488 -0.49669767  0.78165266]\n",
      " [-2.3083231   0.00539995  0.32951701 -0.69550103]\n",
      " [ 0.52428822  0.13869276 -0.04877341  0.5766909 ]\n",
      " [-0.31959853 -0.03384613  0.39508164  1.05590148]\n",
      " [ 0.83375553 -1.01594592  0.40971616  0.88046418]\n",
      " [ 0.85003133 -0.25315836  0.43515282  1.07786435]]\n"
     ]
    }
   ],
   "source": [
    "print(df.values)"
   ]
  },
  {
   "cell_type": "code",
   "execution_count": 25,
   "metadata": {},
   "outputs": [
    {
     "data": {
      "text/html": [
       "<div>\n",
       "<table border=\"1\" class=\"dataframe\">\n",
       "  <thead>\n",
       "    <tr style=\"text-align: right;\">\n",
       "      <th></th>\n",
       "      <th>a</th>\n",
       "      <th>b</th>\n",
       "      <th>c</th>\n",
       "      <th>d</th>\n",
       "    </tr>\n",
       "  </thead>\n",
       "  <tbody>\n",
       "    <tr>\n",
       "      <th>count</th>\n",
       "      <td>6.000000</td>\n",
       "      <td>6.000000</td>\n",
       "      <td>6.000000</td>\n",
       "      <td>6.000000</td>\n",
       "    </tr>\n",
       "    <tr>\n",
       "      <th>mean</th>\n",
       "      <td>0.139873</td>\n",
       "      <td>-0.164202</td>\n",
       "      <td>0.170666</td>\n",
       "      <td>0.612845</td>\n",
       "    </tr>\n",
       "    <tr>\n",
       "      <th>std</th>\n",
       "      <td>1.310800</td>\n",
       "      <td>0.443852</td>\n",
       "      <td>0.373155</td>\n",
       "      <td>0.667193</td>\n",
       "    </tr>\n",
       "    <tr>\n",
       "      <th>min</th>\n",
       "      <td>-2.308323</td>\n",
       "      <td>-1.015946</td>\n",
       "      <td>-0.496698</td>\n",
       "      <td>-0.695501</td>\n",
       "    </tr>\n",
       "    <tr>\n",
       "      <th>25%</th>\n",
       "      <td>-0.108627</td>\n",
       "      <td>-0.198330</td>\n",
       "      <td>0.045799</td>\n",
       "      <td>0.627931</td>\n",
       "    </tr>\n",
       "    <tr>\n",
       "      <th>50%</th>\n",
       "      <td>0.679022</td>\n",
       "      <td>-0.014223</td>\n",
       "      <td>0.362299</td>\n",
       "      <td>0.831058</td>\n",
       "    </tr>\n",
       "    <tr>\n",
       "      <th>75%</th>\n",
       "      <td>0.845962</td>\n",
       "      <td>0.105370</td>\n",
       "      <td>0.406058</td>\n",
       "      <td>1.012042</td>\n",
       "    </tr>\n",
       "    <tr>\n",
       "      <th>max</th>\n",
       "      <td>1.259086</td>\n",
       "      <td>0.173645</td>\n",
       "      <td>0.435153</td>\n",
       "      <td>1.077864</td>\n",
       "    </tr>\n",
       "  </tbody>\n",
       "</table>\n",
       "</div>"
      ],
      "text/plain": [
       "              a         b         c         d\n",
       "count  6.000000  6.000000  6.000000  6.000000\n",
       "mean   0.139873 -0.164202  0.170666  0.612845\n",
       "std    1.310800  0.443852  0.373155  0.667193\n",
       "min   -2.308323 -1.015946 -0.496698 -0.695501\n",
       "25%   -0.108627 -0.198330  0.045799  0.627931\n",
       "50%    0.679022 -0.014223  0.362299  0.831058\n",
       "75%    0.845962  0.105370  0.406058  1.012042\n",
       "max    1.259086  0.173645  0.435153  1.077864"
      ]
     },
     "execution_count": 25,
     "metadata": {},
     "output_type": "execute_result"
    }
   ],
   "source": [
    "df.describe()    # calculate the number, ignore the date and other data types "
   ]
  },
  {
   "cell_type": "code",
   "execution_count": 30,
   "metadata": {},
   "outputs": [
    {
     "data": {
      "text/html": [
       "<div>\n",
       "<table border=\"1\" class=\"dataframe\">\n",
       "  <thead>\n",
       "    <tr style=\"text-align: right;\">\n",
       "      <th></th>\n",
       "      <th>2016-01-01 00:00:00</th>\n",
       "      <th>2016-01-02 00:00:00</th>\n",
       "      <th>2016-01-03 00:00:00</th>\n",
       "      <th>2016-01-04 00:00:00</th>\n",
       "      <th>2016-01-05 00:00:00</th>\n",
       "      <th>2016-01-06 00:00:00</th>\n",
       "    </tr>\n",
       "  </thead>\n",
       "  <tbody>\n",
       "    <tr>\n",
       "      <th>a</th>\n",
       "      <td>1.259086</td>\n",
       "      <td>-2.308323</td>\n",
       "      <td>0.524288</td>\n",
       "      <td>-0.319599</td>\n",
       "      <td>0.833756</td>\n",
       "      <td>0.850031</td>\n",
       "    </tr>\n",
       "    <tr>\n",
       "      <th>b</th>\n",
       "      <td>0.173645</td>\n",
       "      <td>0.005400</td>\n",
       "      <td>0.138693</td>\n",
       "      <td>-0.033846</td>\n",
       "      <td>-1.015946</td>\n",
       "      <td>-0.253158</td>\n",
       "    </tr>\n",
       "    <tr>\n",
       "      <th>c</th>\n",
       "      <td>-0.496698</td>\n",
       "      <td>0.329517</td>\n",
       "      <td>-0.048773</td>\n",
       "      <td>0.395082</td>\n",
       "      <td>0.409716</td>\n",
       "      <td>0.435153</td>\n",
       "    </tr>\n",
       "    <tr>\n",
       "      <th>d</th>\n",
       "      <td>0.781653</td>\n",
       "      <td>-0.695501</td>\n",
       "      <td>0.576691</td>\n",
       "      <td>1.055901</td>\n",
       "      <td>0.880464</td>\n",
       "      <td>1.077864</td>\n",
       "    </tr>\n",
       "  </tbody>\n",
       "</table>\n",
       "</div>"
      ],
      "text/plain": [
       "   2016-01-01  2016-01-02  2016-01-03  2016-01-04  2016-01-05  2016-01-06\n",
       "a    1.259086   -2.308323    0.524288   -0.319599    0.833756    0.850031\n",
       "b    0.173645    0.005400    0.138693   -0.033846   -1.015946   -0.253158\n",
       "c   -0.496698    0.329517   -0.048773    0.395082    0.409716    0.435153\n",
       "d    0.781653   -0.695501    0.576691    1.055901    0.880464    1.077864"
      ]
     },
     "execution_count": 30,
     "metadata": {},
     "output_type": "execute_result"
    }
   ],
   "source": [
    "df.T    # transpose"
   ]
  },
  {
   "cell_type": "code",
   "execution_count": 36,
   "metadata": {},
   "outputs": [
    {
     "data": {
      "text/html": [
       "<div>\n",
       "<table border=\"1\" class=\"dataframe\">\n",
       "  <thead>\n",
       "    <tr style=\"text-align: right;\">\n",
       "      <th></th>\n",
       "      <th>a</th>\n",
       "      <th>b</th>\n",
       "      <th>c</th>\n",
       "      <th>d</th>\n",
       "    </tr>\n",
       "  </thead>\n",
       "  <tbody>\n",
       "    <tr>\n",
       "      <th>2016-01-06</th>\n",
       "      <td>0.850031</td>\n",
       "      <td>-0.253158</td>\n",
       "      <td>0.435153</td>\n",
       "      <td>1.077864</td>\n",
       "    </tr>\n",
       "    <tr>\n",
       "      <th>2016-01-05</th>\n",
       "      <td>0.833756</td>\n",
       "      <td>-1.015946</td>\n",
       "      <td>0.409716</td>\n",
       "      <td>0.880464</td>\n",
       "    </tr>\n",
       "    <tr>\n",
       "      <th>2016-01-04</th>\n",
       "      <td>-0.319599</td>\n",
       "      <td>-0.033846</td>\n",
       "      <td>0.395082</td>\n",
       "      <td>1.055901</td>\n",
       "    </tr>\n",
       "    <tr>\n",
       "      <th>2016-01-03</th>\n",
       "      <td>0.524288</td>\n",
       "      <td>0.138693</td>\n",
       "      <td>-0.048773</td>\n",
       "      <td>0.576691</td>\n",
       "    </tr>\n",
       "    <tr>\n",
       "      <th>2016-01-02</th>\n",
       "      <td>-2.308323</td>\n",
       "      <td>0.005400</td>\n",
       "      <td>0.329517</td>\n",
       "      <td>-0.695501</td>\n",
       "    </tr>\n",
       "    <tr>\n",
       "      <th>2016-01-01</th>\n",
       "      <td>1.259086</td>\n",
       "      <td>0.173645</td>\n",
       "      <td>-0.496698</td>\n",
       "      <td>0.781653</td>\n",
       "    </tr>\n",
       "  </tbody>\n",
       "</table>\n",
       "</div>"
      ],
      "text/plain": [
       "                   a         b         c         d\n",
       "2016-01-06  0.850031 -0.253158  0.435153  1.077864\n",
       "2016-01-05  0.833756 -1.015946  0.409716  0.880464\n",
       "2016-01-04 -0.319599 -0.033846  0.395082  1.055901\n",
       "2016-01-03  0.524288  0.138693 -0.048773  0.576691\n",
       "2016-01-02 -2.308323  0.005400  0.329517 -0.695501\n",
       "2016-01-01  1.259086  0.173645 -0.496698  0.781653"
      ]
     },
     "execution_count": 36,
     "metadata": {},
     "output_type": "execute_result"
    }
   ],
   "source": [
    "df.sort_index(axis=0, ascending=False)    # sort the index, 0 - index, 1 - columns"
   ]
  },
  {
   "cell_type": "code",
   "execution_count": 41,
   "metadata": {},
   "outputs": [
    {
     "data": {
      "text/html": [
       "<div>\n",
       "<table border=\"1\" class=\"dataframe\">\n",
       "  <thead>\n",
       "    <tr style=\"text-align: right;\">\n",
       "      <th></th>\n",
       "      <th>a</th>\n",
       "      <th>b</th>\n",
       "      <th>c</th>\n",
       "      <th>d</th>\n",
       "    </tr>\n",
       "  </thead>\n",
       "  <tbody>\n",
       "    <tr>\n",
       "      <th>2016-01-02</th>\n",
       "      <td>-2.308323</td>\n",
       "      <td>0.005400</td>\n",
       "      <td>0.329517</td>\n",
       "      <td>-0.695501</td>\n",
       "    </tr>\n",
       "    <tr>\n",
       "      <th>2016-01-04</th>\n",
       "      <td>-0.319599</td>\n",
       "      <td>-0.033846</td>\n",
       "      <td>0.395082</td>\n",
       "      <td>1.055901</td>\n",
       "    </tr>\n",
       "    <tr>\n",
       "      <th>2016-01-03</th>\n",
       "      <td>0.524288</td>\n",
       "      <td>0.138693</td>\n",
       "      <td>-0.048773</td>\n",
       "      <td>0.576691</td>\n",
       "    </tr>\n",
       "    <tr>\n",
       "      <th>2016-01-05</th>\n",
       "      <td>0.833756</td>\n",
       "      <td>-1.015946</td>\n",
       "      <td>0.409716</td>\n",
       "      <td>0.880464</td>\n",
       "    </tr>\n",
       "    <tr>\n",
       "      <th>2016-01-06</th>\n",
       "      <td>0.850031</td>\n",
       "      <td>-0.253158</td>\n",
       "      <td>0.435153</td>\n",
       "      <td>1.077864</td>\n",
       "    </tr>\n",
       "    <tr>\n",
       "      <th>2016-01-01</th>\n",
       "      <td>1.259086</td>\n",
       "      <td>0.173645</td>\n",
       "      <td>-0.496698</td>\n",
       "      <td>0.781653</td>\n",
       "    </tr>\n",
       "  </tbody>\n",
       "</table>\n",
       "</div>"
      ],
      "text/plain": [
       "                   a         b         c         d\n",
       "2016-01-02 -2.308323  0.005400  0.329517 -0.695501\n",
       "2016-01-04 -0.319599 -0.033846  0.395082  1.055901\n",
       "2016-01-03  0.524288  0.138693 -0.048773  0.576691\n",
       "2016-01-05  0.833756 -1.015946  0.409716  0.880464\n",
       "2016-01-06  0.850031 -0.253158  0.435153  1.077864\n",
       "2016-01-01  1.259086  0.173645 -0.496698  0.781653"
      ]
     },
     "execution_count": 41,
     "metadata": {},
     "output_type": "execute_result"
    }
   ],
   "source": [
    "df.sort_values(by='a')    # sort the value in the dataframe"
   ]
  },
  {
   "cell_type": "markdown",
   "metadata": {},
   "source": [
    "## select the data"
   ]
  },
  {
   "cell_type": "code",
   "execution_count": 52,
   "metadata": {},
   "outputs": [
    {
     "name": "stdout",
     "output_type": "stream",
     "text": [
      "             A   B   C   D\n",
      "2016-01-01   0   1   2   3\n",
      "2016-01-02   4   5   6   7\n",
      "2016-01-03   8   9  10  11\n",
      "2016-01-04  12  13  14  15\n",
      "2016-01-05  16  17  18  19\n",
      "2016-01-06  20  21  22  23\n"
     ]
    }
   ],
   "source": [
    "dates = pd.date_range('20160101', periods=6)\n",
    "df = pd.DataFrame(np.arange(24).reshape((6, 4)), index=dates, columns=['A', 'B', 'C', 'D'])\n",
    "print(df)"
   ]
  },
  {
   "cell_type": "code",
   "execution_count": 57,
   "metadata": {},
   "outputs": [
    {
     "name": "stdout",
     "output_type": "stream",
     "text": [
      "choose columns\n",
      " 2016-01-01     0\n",
      "2016-01-02     4\n",
      "2016-01-03     8\n",
      "2016-01-04    12\n",
      "2016-01-05    16\n",
      "2016-01-06    20\n",
      "Freq: D, Name: A, dtype: int64 \n",
      " 2016-01-01     0\n",
      "2016-01-02     4\n",
      "2016-01-03     8\n",
      "2016-01-04    12\n",
      "2016-01-05    16\n",
      "2016-01-06    20\n",
      "Freq: D, Name: A, dtype: int64\n",
      "choose index\n",
      "             A  B   C   D\n",
      "2016-01-01  0  1   2   3\n",
      "2016-01-02  4  5   6   7\n",
      "2016-01-03  8  9  10  11 \n",
      "             A  B   C   D\n",
      "2016-01-01  0  1   2   3\n",
      "2016-01-02  4  5   6   7\n",
      "2016-01-03  8  9  10  11\n",
      "A    4\n",
      "B    5\n",
      "C    6\n",
      "D    7\n",
      "Name: 2016-01-02 00:00:00, dtype: int64\n",
      "             A   B\n",
      "2016-01-01   0   1\n",
      "2016-01-02   4   5\n",
      "2016-01-03   8   9\n",
      "2016-01-04  12  13\n",
      "2016-01-05  16  17\n",
      "2016-01-06  20  21\n"
     ]
    }
   ],
   "source": [
    "# choose columns\n",
    "print('choose columns\\n', df['A'], '\\n', df.A)\n",
    "\n",
    "# choose with slice\n",
    "print('choose index\\n', df[0:3], '\\n', df['2016-01-01':'2016-01-03'])\n",
    "\n",
    "# choose with label: loc for index (location)\n",
    "print(df.loc['2016-01-02'])\n",
    "\n",
    "# choose with label: loc for columns\n",
    "print(df.loc[:, ['A', 'B']])"
   ]
  },
  {
   "cell_type": "code",
   "execution_count": 60,
   "metadata": {},
   "outputs": [
    {
     "name": "stdout",
     "output_type": "stream",
     "text": [
      "            A  B  C  D\n",
      "2016-01-01  0  1  2  3\n"
     ]
    }
   ],
   "source": [
    "print(df[0:1])"
   ]
  },
  {
   "cell_type": "code",
   "execution_count": null,
   "metadata": {},
   "outputs": [],
   "source": []
  }
 ],
 "metadata": {
  "kernelspec": {
   "display_name": "Python 3 ML",
   "language": "python",
   "name": "pythonml"
  },
  "language_info": {
   "codemirror_mode": {
    "name": "ipython",
    "version": 3
   },
   "file_extension": ".py",
   "mimetype": "text/x-python",
   "name": "python",
   "nbconvert_exporter": "python",
   "pygments_lexer": "ipython3",
   "version": "3.6.0"
  }
 },
 "nbformat": 4,
 "nbformat_minor": 2
}
