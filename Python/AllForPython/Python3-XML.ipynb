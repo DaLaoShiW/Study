{
 "cells": [
  {
   "cell_type": "markdown",
   "metadata": {},
   "source": [
    "## Python3 - XML\n",
    "`xml.etree.ElementTree`\n",
    "\n",
    "---\n",
    "`xml.etree.ElementTree` 模块提供了简单有效的解析和生成 `XML` 数据的 `API` 接口\n",
    "* `XML` 树和元素\n",
    "    `XML` 是一种天然的分层数据表示，通常用来表示一棵树，在整个模块中，`ElementTree` 表示整个树，`Element` 表示节点，和整个文档的交互工作基本上都是依赖的 `ElementTree`,对文档中的元素的交互一般都是依靠 `Element` 元素\n",
    "    测试文档如下\n",
    "    ```xml\n",
    "    <?xml version=\"1.0\"?>\n",
    "<data>\n",
    "    <country name=\"Liechtenstein\">\n",
    "        <rank>1</rank>\n",
    "        <year>2008</year>\n",
    "        <gdppc>141100</gdppc>\n",
    "        <neighbor name=\"Austria\" direction=\"E\"/>\n",
    "        <neighbor name=\"Switzerland\" direction=\"W\"/>\n",
    "    </country>\n",
    "    <country name=\"Singapore\">\n",
    "        <rank>4</rank>\n",
    "        <year>2011</year>\n",
    "        <gdppc>59900</gdppc>\n",
    "        <neighbor name=\"Malaysia\" direction=\"N\"/>\n",
    "    </country>\n",
    "    <country name=\"Panama\">\n",
    "        <rank>68</rank>\n",
    "        <year>2011</year>\n",
    "        <gdppc>13600</gdppc>\n",
    "        <neighbor name=\"Costa Rica\" direction=\"W\"/>\n",
    "        <neighbor name=\"Colombia\" direction=\"E\"/>\n",
    "    </country>\n",
    "</data>\n",
    "    ```\n",
    "* 导入包"
   ]
  },
  {
   "cell_type": "code",
   "execution_count": 2,
   "metadata": {},
   "outputs": [],
   "source": [
    "import xml.etree.ElementTree as ET"
   ]
  },
  {
   "cell_type": "markdown",
   "metadata": {},
   "source": [
    "* 导入数据\n",
    "    1. `ET.parse(filename)`: 从文件中解析获得 `ElementTree`\n",
    "    2. `tree.getroot()`: 从 `ElementTree` 中获得 `root` 节点(`ELement`)\n",
    "    3. `ET.fromstring(data)`: 直接从字符串中解析 `XML` 文件，返回 `root, Element`\n",
    "    4. 还存在很多的解析的函数，返回的结果各不相同，可以通过查看官方文档获得详细的返回信息"
   ]
  },
  {
   "cell_type": "code",
   "execution_count": 3,
   "metadata": {},
   "outputs": [
    {
     "data": {
      "text/plain": [
       "<Element 'data' at 0x7f04373ed778>"
      ]
     },
     "execution_count": 3,
     "metadata": {},
     "output_type": "execute_result"
    }
   ],
   "source": [
    "# tree = ET.parse(\"filename.xml\")\n",
    "data = '''<?xml version=\"1.0\"?>\n",
    "<data>\n",
    "    <country name=\"Liechtenstein\">\n",
    "        <rank>1</rank>\n",
    "        <year>2008</year>\n",
    "        <gdppc>141100</gdppc>\n",
    "        <neighbor name=\"Austria\" direction=\"E\"/>\n",
    "        <neighbor name=\"Switzerland\" direction=\"W\"/>\n",
    "    </country>\n",
    "    <country name=\"Singapore\">\n",
    "        <rank>4</rank>\n",
    "        <year>2011</year>\n",
    "        <gdppc>59900</gdppc>\n",
    "        <neighbor name=\"Malaysia\" direction=\"N\"/>\n",
    "    </country>\n",
    "    <country name=\"Panama\">\n",
    "        <rank>68</rank>\n",
    "        <year>2011</year>\n",
    "        <gdppc>13600</gdppc>\n",
    "        <neighbor name=\"Costa Rica\" direction=\"W\"/>\n",
    "        <neighbor name=\"Colombia\" direction=\"E\"/>\n",
    "    </country>\n",
    "</data>\n",
    "'''\n",
    "\n",
    "root = ET.fromstring(data)\n",
    "root"
   ]
  },
  {
   "cell_type": "markdown",
   "metadata": {},
   "source": [
    "* 文档树详细信息\n",
    "    1. 每一个 `Element` 节点都存在有对应的属性\n",
    "        * `tag`: 标签信息\n",
    "        * `attrib`: 属性信息,标签内部的属性信息可以通过 `Element.get(\"attrib name\")` 的方式获得\n",
    "        * `text`: 文本信息\n",
    "    2. 迭代查看所有的子节点，因为子节点是嵌套的，所以可以采用索引的方式找到对应的子节点\n",
    "    3. 使用函数 `ET.dump(root)` 可以打印从 `root` 开始的子树，无返回值\n",
    "        只可以打印 `tree`, 不可以打印 `Element`\n",
    "    4. 排版打印出文档树\n",
    "        ```python\n",
    "        from lxml import etree\n",
    "        root = tree.getroot()\n",
    "        res = ET.tostring(root)\n",
    "        print(etree.tostring(etree.fromstring(res), pretty_print=True))\n",
    "        ```"
   ]
  },
  {
   "cell_type": "code",
   "execution_count": 4,
   "metadata": {},
   "outputs": [
    {
     "data": {
      "text/plain": [
       "('data', {}, '\\n    ')"
      ]
     },
     "execution_count": 4,
     "metadata": {},
     "output_type": "execute_result"
    }
   ],
   "source": [
    "root.tag, root.attrib, root.text"
   ]
  },
  {
   "cell_type": "code",
   "execution_count": 5,
   "metadata": {},
   "outputs": [
    {
     "name": "stdout",
     "output_type": "stream",
     "text": [
      "country {'name': 'Liechtenstein'}\n",
      "country {'name': 'Singapore'}\n",
      "country {'name': 'Panama'}\n",
      "2011\n"
     ]
    }
   ],
   "source": [
    "# 迭代查看所有的子节点\n",
    "for child in root:\n",
    "    print(child.tag, child.attrib)\n",
    "\n",
    "# 索引, 标签　Singapore -> year\n",
    "print(root[1][1].text)"
   ]
  },
  {
   "cell_type": "markdown",
   "metadata": {},
   "source": [
    "* 非阻塞解析  \n",
    "  到目前为止，模块中的所有的提供的解析函数要求必须输入整个文档来解析结果，但是可以通过使用 `XMLParser` 每次递增的喂给它数据实现动态解析"
   ]
  },
  {
   "cell_type": "code",
   "execution_count": 6,
   "metadata": {},
   "outputs": [
    {
     "name": "stdout",
     "output_type": "stream",
     "text": [
      "data {'name': 'lantian'}\n"
     ]
    }
   ],
   "source": [
    "parser = ET.XMLPullParser()\n",
    "parser.feed('<data name=\"lantian\">')\n",
    "parser.feed('</data>')\n",
    "for i in parser.read_events():\n",
    "    print(i[1].tag, i[1].attrib)"
   ]
  },
  {
   "cell_type": "markdown",
   "metadata": {},
   "source": [
    "* 寻找节点  \n",
    "    `Element` 元素有一些很实用的方法辅助查询子树下的元素  \n",
    "    1. `Element.iter(\"tag name\")`: 在子树下查询所有的标签是 `tag_name` 的 `Element`,如果为空表示全部子树节点都查询\n",
    "    2. `Element.findall(\"tag name\")`: 只找直接孩子节点\n",
    "    3. `Element.find(\"tag name\")`: 只找第一个找到的孩子节点，单返回"
   ]
  },
  {
   "cell_type": "code",
   "execution_count": 7,
   "metadata": {},
   "outputs": [
    {
     "name": "stdout",
     "output_type": "stream",
     "text": [
      "neighbor {'direction': 'E', 'name': 'Austria'}\n",
      "neighbor {'direction': 'W', 'name': 'Switzerland'}\n",
      "neighbor {'direction': 'N', 'name': 'Malaysia'}\n",
      "neighbor {'direction': 'W', 'name': 'Costa Rica'}\n",
      "neighbor {'direction': 'E', 'name': 'Colombia'}\n",
      "--------------------------------------------------\n",
      "Liechtenstein 1\n",
      "Singapore 4\n",
      "Panama 68\n"
     ]
    }
   ],
   "source": [
    "# Element.iter\n",
    "for sub in root.iter(\"neighbor\"):\n",
    "    print(sub.tag, sub.attrib)\n",
    "\n",
    "print(\"-\" * 50)\n",
    "# \n",
    "for country in root.findall('country'):\n",
    "    rank = country.find('rank').text\n",
    "    name = country.get('name')\n",
    "    print(name, rank)"
   ]
  },
  {
   "cell_type": "markdown",
   "metadata": {},
   "source": [
    "* 修改 `XML` 文件  \n",
    "    `ElementTree` 模块提供基本的方法帮助构建 `XML` 文件并将其写入文件, `ElementTree.write()`\n",
    "    1. 修改 `Element` 节点的基本方法\n",
    "        * text: text文本域可以直接的修改\n",
    "        * 添加节点的属性: 可以通过 `Element.set(\"attrib_name\", \"attrib_value\")` 实现\n",
    "        * 添加新的子节点 `Element.append(Element)`: 参数是 `Element` 对象\n",
    "        * 移除节点 `Element.remove(Element)`: 参数是 `Element` 对象\n",
    "    2. 手动构建 `ElementTree`\n",
    "        ```python\n",
    "        a = ET.Element('a')\n",
    "        b = ET.SubElement(a, 'b')    # b 是 a 的直接\n",
    "        ```\n",
    "   \n",
    "* 构建 `XML` 文件\n",
    "    "
   ]
  },
  {
   "cell_type": "code",
   "execution_count": 9,
   "metadata": {},
   "outputs": [
    {
     "name": "stdout",
     "output_type": "stream",
     "text": [
      "<data>\n",
      "    <country name=\"Liechtenstein\">\n",
      "        <rank>1</rank>\n",
      "        <year>2008</year>\n",
      "        <gdppc>141100</gdppc>\n",
      "        <neighbor direction=\"E\" name=\"Austria\" />\n",
      "        <neighbor direction=\"W\" name=\"Switzerland\" />\n",
      "    </country>\n",
      "    <country name=\"Panama\">\n",
      "        <rank>68</rank>\n",
      "        <year>2011</year>\n",
      "        <gdppc>13600</gdppc>\n",
      "        <neighbor direction=\"W\" name=\"Costa Rica\" />\n",
      "        <neighbor direction=\"E\" name=\"Colombia\" />\n",
      "    </country>\n",
      "<a /></data>\n",
      "--------------------------------------------------\n",
      "<data>\n",
      "    <country name=\"Liechtenstein\">\n",
      "        <rank>1</rank>\n",
      "        <year>2008</year>\n",
      "        <gdppc>141100</gdppc>\n",
      "        <neighbor direction=\"E\" name=\"Austria\" />\n",
      "        <neighbor direction=\"W\" name=\"Switzerland\" />\n",
      "    </country>\n",
      "    <country name=\"Panama\">\n",
      "        <rank>68</rank>\n",
      "        <year>2011</year>\n",
      "        <gdppc>13600</gdppc>\n",
      "        <neighbor direction=\"W\" name=\"Costa Rica\" />\n",
      "        <neighbor direction=\"E\" name=\"Colombia\" />\n",
      "    </country>\n",
      "<a /><a /></data>\n",
      "--------------------------------------------------\n",
      "<a><b /><c><d>lantian</d></c></a>\n"
     ]
    }
   ],
   "source": [
    "# 删除 country - Singapore 标签\n",
    "for country in root.findall(\"country\"):\n",
    "    if country.attrib['name'] == 'Singapore':\n",
    "        root.remove(country)\n",
    "ET.dump(root)\n",
    "\n",
    "print('-' * 50)\n",
    "\n",
    "# Element.append\n",
    "root.append(ET.Element('a'))\n",
    "ET.dump(root)\n",
    "\n",
    "print('-' * 50)\n",
    "\n",
    "# 构建文档树\n",
    "a = ET.Element('a')\n",
    "b = ET.SubElement(a, 'b')\n",
    "c = ET.SubElement(a, 'c')\n",
    "d = ET.SubElement(c, 'd')\n",
    "d.text = \"lantian\"\n",
    "ET.dump(a)"
   ]
  }
 ],
 "metadata": {
  "kernelspec": {
   "display_name": "Python 3",
   "language": "python",
   "name": "python3"
  },
  "language_info": {
   "codemirror_mode": {
    "name": "ipython",
    "version": 3
   },
   "file_extension": ".py",
   "mimetype": "text/x-python",
   "name": "python",
   "nbconvert_exporter": "python",
   "pygments_lexer": "ipython3",
   "version": "3.5.2"
  }
 },
 "nbformat": 4,
 "nbformat_minor": 2
}
