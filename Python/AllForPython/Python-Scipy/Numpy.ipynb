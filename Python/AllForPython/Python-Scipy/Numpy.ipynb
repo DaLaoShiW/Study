{
 "cells": [
  {
   "cell_type": "markdown",
   "metadata": {},
   "source": [
    "## 科学计算的目的\n",
    "* 收集数据\n",
    "* 处理数据\n",
    "* 可视化分析数据\n",
    "\n",
    "## Python科学计算的基础\n",
    "Python本身不能很好的执行科学计算的任务，真正可以完成工作的是Python的科学计算扩展模块  \n",
    "* Numpy\n",
    "* Scipy\n",
    "* Matplotlib\n",
    "* Python\n",
    "* IPython / jupyter notebook / IPython notebook - 辅助工具\n",
    "* Mayavi\n",
    "* Pandas & Seaborn\n",
    "* Sympy\n",
    "* Scikit-learn\n",
    "* Scikit-image\n",
    "* Tensorflow\n",
    "\n",
    "## 交互式的开发环境\n",
    "IPython / juyter notebook 提供了强大的交互式的界面，基本的使用技巧如下"
   ]
  },
  {
   "cell_type": "code",
   "execution_count": 1,
   "metadata": {
    "collapsed": false
   },
   "outputs": [
    {
     "name": "stdout",
     "output_type": "stream",
     "text": [
      "something will be printed!\n"
     ]
    }
   ],
   "source": [
    "print(\"something will be printed!\")"
   ]
  },
  {
   "cell_type": "code",
   "execution_count": 3,
   "metadata": {
    "collapsed": true
   },
   "outputs": [],
   "source": [
    "print?    # print?查看介绍，print??可以查看源代码，这一点对于自己的包和模块也是有效的"
   ]
  },
  {
   "cell_type": "code",
   "execution_count": 1,
   "metadata": {
    "collapsed": false
   },
   "outputs": [],
   "source": [
    "%run ~/File/Study/Python/StudyPython/MyPythonWheel/mod2div.py"
   ]
  },
  {
   "cell_type": "code",
   "execution_count": 3,
   "metadata": {
    "collapsed": false
   },
   "outputs": [
    {
     "name": "stdout",
     "output_type": "stream",
     "text": [
      "Variable   Type    Data/Info\n",
      "----------------------------\n",
      "a          int     1\n"
     ]
    }
   ],
   "source": [
    "a = 1\n",
    "%whos"
   ]
  },
  {
   "cell_type": "markdown",
   "metadata": {},
   "source": [
    "IPython的基础使用技巧\n",
    "* !(Linux / Unix Shell Command)\n",
    "* timeit command 可以计算剪短的语句或者脚本的执行时间\n",
    "* debug 可以在异常中断之后执行debug程序\n",
    "\n",
    "## Python语言基础\n",
    "这里只讨论了开始使用Numpy和Scipy所需的最低要求\n",
    "以为本人接触Python很长的时间，在这里只记录我的遗漏知识点\n",
    "* 复数"
   ]
  },
  {
   "cell_type": "code",
   "execution_count": 7,
   "metadata": {
    "collapsed": false
   },
   "outputs": [
    {
     "name": "stdout",
     "output_type": "stream",
     "text": [
      "<class 'complex'> 1.5 2.0\n"
     ]
    }
   ],
   "source": [
    "a = 1.5 + 2j\n",
    "print(type(a) , a.real , a.imag)"
   ]
  },
  {
   "cell_type": "markdown",
   "metadata": {},
   "source": [
    "* 列表用来容纳数据，可以容纳不同的数据，但是实际上如果是容纳你数组，建议使用numpy中的array速度的更快\n",
    "* 字符串格式化"
   ]
  },
  {
   "cell_type": "code",
   "execution_count": 11,
   "metadata": {
    "collapsed": false
   },
   "outputs": [
    {
     "name": "stdout",
     "output_type": "stream",
     "text": [
      "one : 1 , two : 2 , three : 3\n"
     ]
    }
   ],
   "source": [
    "print(\"one : %d , two : %d , three : %s\" % (1,2,'3'))"
   ]
  },
  {
   "cell_type": "markdown",
   "metadata": {},
   "source": [
    "* python中的可变对象比如list如果是用切片的方式是原地的改变的"
   ]
  },
  {
   "cell_type": "code",
   "execution_count": 15,
   "metadata": {
    "collapsed": false
   },
   "outputs": [
    {
     "name": "stdout",
     "output_type": "stream",
     "text": [
      "140623386049864\n",
      "140623604718472\n",
      "140623604718472\n"
     ]
    }
   ],
   "source": [
    "a = [1,2,3]\n",
    "print(id(a))\n",
    "a = ['a','b','c']\n",
    "print(id(a))    # id 改变\n",
    "a[:] = [1,2,3]\n",
    "print(id(a))    # id 不变"
   ]
  },
  {
   "cell_type": "markdown",
   "metadata": {},
   "source": [
    "* 修改正在迭代的列表会发生意想不到的错误，强烈建议不要使用\n",
    "* 函数参数的默认值在函数定义的时候使用，之后改动是对函数没有影响的\n",
    "* reload : 对旧的模块修改的话，我们需要重新导入"
   ]
  },
  {
   "cell_type": "code",
   "execution_count": 17,
   "metadata": {
    "collapsed": false
   },
   "outputs": [
    {
     "data": {
      "text/plain": [
       "<module 'os' from '/usr/lib/python3.5/os.py'>"
      ]
     },
     "execution_count": 17,
     "metadata": {},
     "output_type": "execute_result"
    }
   ],
   "source": [
    "import os\n",
    "from imp import reload\n",
    "reload(os)"
   ]
  },
  {
   "cell_type": "markdown",
   "metadata": {},
   "source": [
    "* 包的信息描述"
   ]
  },
  {
   "cell_type": "code",
   "execution_count": 1,
   "metadata": {
    "collapsed": false
   },
   "outputs": [
    {
     "name": "stdout",
     "output_type": "stream",
     "text": [
      "/usr/lib/python3.5/os.py\n"
     ]
    }
   ],
   "source": [
    "import os\n",
    "print(os.__file__)"
   ]
  },
  {
   "cell_type": "markdown",
   "metadata": {},
   "source": [
    "## Numpy科学计算核心\n",
    "* Numpy是科学计算的核心，提供贴近硬件执行速度的数组运算\n",
    "* 内存高效的数据容器，提供快速的数据操作\n",
    "* len返回第一维的长度,shape返回总共的维数规模元组"
   ]
  },
  {
   "cell_type": "code",
   "execution_count": 4,
   "metadata": {
    "collapsed": false
   },
   "outputs": [
    {
     "name": "stdout",
     "output_type": "stream",
     "text": [
      "315 ns ± 22.9 ns per loop (mean ± std. dev. of 7 runs, 1000000 loops each)\n"
     ]
    }
   ],
   "source": [
    "import numpy as np\n",
    "%timeit range(1000)"
   ]
  },
  {
   "cell_type": "code",
   "execution_count": 1,
   "metadata": {
    "collapsed": false
   },
   "outputs": [
    {
     "name": "stdout",
     "output_type": "stream",
     "text": [
      "1.59 µs ± 6.62 ns per loop (mean ± std. dev. of 7 runs, 1000000 loops each)\n"
     ]
    }
   ],
   "source": [
    "%timeit np.arange(1000)"
   ]
  },
  {
   "cell_type": "code",
   "execution_count": 2,
   "metadata": {
    "collapsed": false
   },
   "outputs": [
    {
     "name": "stdout",
     "output_type": "stream",
     "text": [
      "1 (4,) 4\n"
     ]
    }
   ],
   "source": [
    "a = np.array([1,2,3,4])\n",
    "print(a.ndim , a.shape , len(a))"
   ]
  },
  {
   "cell_type": "code",
   "execution_count": 5,
   "metadata": {
    "collapsed": false
   },
   "outputs": [
    {
     "data": {
      "text/plain": [
       "'1.12.1'"
      ]
     },
     "execution_count": 5,
     "metadata": {},
     "output_type": "execute_result"
    }
   ],
   "source": [
    "np.__version__"
   ]
  },
  {
   "cell_type": "markdown",
   "metadata": {
    "collapsed": true
   },
   "source": [
    "* 创建numpy数组的方式"
   ]
  },
  {
   "cell_type": "code",
   "execution_count": 11,
   "metadata": {
    "collapsed": false
   },
   "outputs": [
    {
     "data": {
      "text/plain": [
       "array([1, 3, 5, 7, 9])"
      ]
     },
     "execution_count": 11,
     "metadata": {},
     "output_type": "execute_result"
    }
   ],
   "source": [
    "np.arange(1,10,2)    # 均匀间隔"
   ]
  },
  {
   "cell_type": "code",
   "execution_count": 1,
   "metadata": {
    "collapsed": false
   },
   "outputs": [
    {
     "data": {
      "text/plain": [
       "array([  1. ,   2.8,   4.6,   6.4,   8.2,  10. ])"
      ]
     },
     "execution_count": 1,
     "metadata": {},
     "output_type": "execute_result"
    }
   ],
   "source": [
    "np.linspace(1, 10, 6, endpoint = True)    # 点分割,endpoint属性决定最后一个边界的点是不是作为结果点"
   ]
  },
  {
   "cell_type": "code",
   "execution_count": 18,
   "metadata": {
    "collapsed": false
   },
   "outputs": [
    {
     "data": {
      "text/plain": [
       "array([[ 1.,  1.,  1.],\n",
       "       [ 1.,  1.,  1.],\n",
       "       [ 1.,  1.,  1.]])"
      ]
     },
     "execution_count": 18,
     "metadata": {},
     "output_type": "execute_result"
    }
   ],
   "source": [
    "np.ones((3,3))    # 生成制定规模的1元素矩阵"
   ]
  },
  {
   "cell_type": "code",
   "execution_count": 20,
   "metadata": {
    "collapsed": false
   },
   "outputs": [
    {
     "data": {
      "text/plain": [
       "array([[ 0.,  0.,  0.],\n",
       "       [ 0.,  0.,  0.],\n",
       "       [ 0.,  0.,  0.]])"
      ]
     },
     "execution_count": 20,
     "metadata": {},
     "output_type": "execute_result"
    }
   ],
   "source": [
    "np.zeros((3,3))    # 生成指定规模的0元素矩阵"
   ]
  },
  {
   "cell_type": "code",
   "execution_count": 24,
   "metadata": {
    "collapsed": false
   },
   "outputs": [
    {
     "data": {
      "text/plain": [
       "array([[ 1.,  0.,  0.],\n",
       "       [ 0.,  1.,  0.],\n",
       "       [ 0.,  0.,  1.]])"
      ]
     },
     "execution_count": 24,
     "metadata": {},
     "output_type": "execute_result"
    }
   ],
   "source": [
    "np.eye(3)    # 生成单位矩阵"
   ]
  },
  {
   "cell_type": "code",
   "execution_count": 25,
   "metadata": {
    "collapsed": false
   },
   "outputs": [
    {
     "data": {
      "text/plain": [
       "array([[1, 0, 0, 0],\n",
       "       [0, 2, 0, 0],\n",
       "       [0, 0, 3, 0],\n",
       "       [0, 0, 0, 4]])"
      ]
     },
     "execution_count": 25,
     "metadata": {},
     "output_type": "execute_result"
    }
   ],
   "source": [
    "np.diag([1,2,3,4])    # diag函数的作用是对于输入的2维矩阵求出对应的对角线元素，对与输入的1维向量求出对应的以向量为对角线的矩阵\n",
    "# diag的第二个参数k决定我们的该一维数组分布在矩阵的那条对角线上"
   ]
  },
  {
   "cell_type": "code",
   "execution_count": 29,
   "metadata": {
    "collapsed": false
   },
   "outputs": [
    {
     "data": {
      "text/plain": [
       "array([0, 0])"
      ]
     },
     "execution_count": 29,
     "metadata": {},
     "output_type": "execute_result"
    }
   ],
   "source": [
    "np.diag(np.diag([1,2,3,4]) , k = 2)    # k的值代表去除对应的斜对角线元素，k > 0从上三角矩阵取，k < 0从下三角矩阵取"
   ]
  },
  {
   "cell_type": "code",
   "execution_count": 49,
   "metadata": {
    "collapsed": false
   },
   "outputs": [
    {
     "data": {
      "text/plain": [
       "array([[ 0.,  0.,  0.],\n",
       "       [ 0.,  0.,  0.]])"
      ]
     },
     "execution_count": 49,
     "metadata": {},
     "output_type": "execute_result"
    }
   ],
   "source": [
    "np.empty((2,3))    # 返回没有初始化过的指定规模的矩阵"
   ]
  },
  {
   "cell_type": "markdown",
   "metadata": {},
   "source": [
    "* 随机数"
   ]
  },
  {
   "cell_type": "code",
   "execution_count": 34,
   "metadata": {
    "collapsed": false
   },
   "outputs": [
    {
     "data": {
      "text/plain": [
       "array([[ 0.96889737,  0.62325707,  0.39419046,  0.47826906],\n",
       "       [ 0.89115189,  0.22388938,  0.17601448,  0.3717713 ]])"
      ]
     },
     "execution_count": 34,
     "metadata": {},
     "output_type": "execute_result"
    }
   ],
   "source": [
    "np.random.rand(2,4)"
   ]
  },
  {
   "cell_type": "code",
   "execution_count": 36,
   "metadata": {
    "collapsed": false
   },
   "outputs": [
    {
     "data": {
      "text/plain": [
       "array([[ 0.89138172,  1.51424991,  0.9684666 ,  0.90978274],\n",
       "       [ 0.35911766,  0.47174982,  0.90199003, -0.46730453]])"
      ]
     },
     "execution_count": 36,
     "metadata": {},
     "output_type": "execute_result"
    }
   ],
   "source": [
    "np.random.randn(2,4)    # 标准正态分布,第三个参数是size表示规模"
   ]
  },
  {
   "cell_type": "code",
   "execution_count": 40,
   "metadata": {
    "collapsed": false
   },
   "outputs": [
    {
     "data": {
      "text/plain": [
       "2"
      ]
     },
     "execution_count": 40,
     "metadata": {},
     "output_type": "execute_result"
    }
   ],
   "source": [
    "np.random.randint(2,3)    # 生成对应的随机整数 [a,b)"
   ]
  },
  {
   "cell_type": "code",
   "execution_count": 45,
   "metadata": {
    "collapsed": false
   },
   "outputs": [
    {
     "name": "stdout",
     "output_type": "stream",
     "text": [
      "5\n",
      "5\n",
      "7\n"
     ]
    }
   ],
   "source": [
    "np.random.seed(12)    # 设置随机种子\n",
    "print(np.random.randint(2,8))\n",
    "print(np.random.randint(2,8))\n",
    "np.random.seed(1)    \n",
    "print(np.random.randint(2,8))"
   ]
  },
  {
   "cell_type": "markdown",
   "metadata": {
    "collapsed": true
   },
   "source": [
    "* 数据类型\n",
    "    * float\n",
    "    * int\n",
    "    * complex\n",
    "    * bool\n",
    "    * S7: 字符串类型（长度为7）"
   ]
  },
  {
   "cell_type": "code",
   "execution_count": 5,
   "metadata": {
    "collapsed": false
   },
   "outputs": [
    {
     "name": "stdout",
     "output_type": "stream",
     "text": [
      "int64\n",
      "float64\n"
     ]
    }
   ],
   "source": [
    "a = np.array([1, 2, 3])\n",
    "print(a.dtype)\n",
    "b = np.array([1, 2.0, 3])    # 2.0 - float , 2 - int\n",
    "print(b.dtype)"
   ]
  },
  {
   "cell_type": "code",
   "execution_count": 11,
   "metadata": {
    "collapsed": false
   },
   "outputs": [
    {
     "name": "stdout",
     "output_type": "stream",
     "text": [
      "complex128\n"
     ]
    }
   ],
   "source": [
    "# 制定类型\n",
    "a = np.array([1, 2, 3], dtype=complex)\n",
    "print(a.dtype)"
   ]
  },
  {
   "cell_type": "code",
   "execution_count": 13,
   "metadata": {
    "collapsed": false
   },
   "outputs": [
    {
     "name": "stdout",
     "output_type": "stream",
     "text": [
      "float64\n"
     ]
    }
   ],
   "source": [
    "# 默认数据类型是浮点类型数据\n",
    "a = np.zeros((3, 3))\n",
    "print(a.dtype)"
   ]
  },
  {
   "cell_type": "markdown",
   "metadata": {},
   "source": [
    "* Jupyter / IPython 基本可视化  \n",
    "    inline 内置命令会将我们的图像显示在notebook中，而不是弹出新的窗口"
   ]
  },
  {
   "cell_type": "code",
   "execution_count": 21,
   "metadata": {
    "collapsed": false
   },
   "outputs": [
    {
     "data": {
      "text/plain": [
       "<matplotlib.colorbar.Colorbar at 0x7f567cf66978>"
      ]
     },
     "execution_count": 21,
     "metadata": {},
     "output_type": "execute_result"
    },
    {
     "data": {
      "image/png": "[encoded data removed]",
      "text/plain": [
       "<matplotlib.figure.Figure at 0x7f567cffe9b0>"
      ]
     },
     "metadata": {},
     "output_type": "display_data"
    }
   ],
   "source": [
    "%matplotlib inline\n",
    "image = np.random.rand(30, 30)    # 随机的image数据，控制颜色大小\n",
    "plt.imshow(image, cmap=plt.cm.hot)    # 采用plt.cm.hot热力图显示\n",
    "plt.colorbar()    # 显示右方的图标"
   ]
  },
  {
   "cell_type": "markdown",
   "metadata": {},
   "source": [
    "* Numpy 索引和切片\n",
    "    * 索引从0开始\n",
    "    * 索引基本语法要素 : array[a:b:c]\n",
    "        * a / b : [a, b)\n",
    "        * c : 步长\n",
    "        * ::: : 是默认索引，表示全选"
   ]
  },
  {
   "cell_type": "code",
   "execution_count": 2,
   "metadata": {
    "collapsed": false
   },
   "outputs": [
    {
     "name": "stdout",
     "output_type": "stream",
     "text": [
      "[0 1 0]\n"
     ]
    },
    {
     "data": {
      "text/plain": [
       "0"
      ]
     },
     "execution_count": 2,
     "metadata": {},
     "output_type": "execute_result"
    }
   ],
   "source": [
    "a = np.diag(np.arange(3))\n",
    "print(a[1])    # 取一维出来还是numpy\n",
    "a[1, 2]    # 取一个元素出来"
   ]
  },
  {
   "cell_type": "code",
   "execution_count": 29,
   "metadata": {
    "collapsed": false
   },
   "outputs": [
    {
     "name": "stdout",
     "output_type": "stream",
     "text": [
      "[0 1 2 3 4 0 1 2 3 4]\n"
     ]
    }
   ],
   "source": [
    "# 切片和赋值操作可以很好的结合在一起\n",
    "a = np.arange(10)\n",
    "a[5:1] = 10    # 广播赋值\n",
    "a[5:] = np.arange(5)     # 更新插入赋值,但是必须保证shape不变\n",
    "print(a)"
   ]
  },
  {
   "cell_type": "code",
   "execution_count": 31,
   "metadata": {
    "collapsed": false
   },
   "outputs": [
    {
     "data": {
      "text/plain": [
       "array([[ 0,  1,  2,  3,  4,  5],\n",
       "       [10, 11, 12, 13, 14, 15],\n",
       "       [20, 21, 22, 23, 24, 25],\n",
       "       [30, 31, 32, 33, 34, 35],\n",
       "       [40, 41, 42, 43, 44, 45],\n",
       "       [50, 51, 52, 53, 54, 55]])"
      ]
     },
     "execution_count": 31,
     "metadata": {},
     "output_type": "execute_result"
    }
   ],
   "source": [
    "# np.newaxis 是numpy中添加一个新的维度的意思，本质是一个None\n",
    "np.arange(6) + np.arange(0, 51, 10)[:, np.newaxis]    # 广播加法"
   ]
  },
  {
   "cell_type": "code",
   "execution_count": 33,
   "metadata": {
    "collapsed": false
   },
   "outputs": [
    {
     "data": {
      "text/plain": [
       "array([[4, 3, 4, 3],\n",
       "       [1, 2, 1, 2],\n",
       "       [4, 3, 4, 3],\n",
       "       [1, 2, 1, 2]])"
      ]
     },
     "execution_count": 33,
     "metadata": {},
     "output_type": "execute_result"
    }
   ],
   "source": [
    "# np.tile(array, reps)    对数组array重复reps次，reps是一个数或者规模元组\n",
    "np.tile(np.array([[4, 3], [1, 2]]), (2, 2))"
   ]
  },
  {
   "cell_type": "markdown",
   "metadata": {},
   "source": [
    "* 拷贝和视图\n",
    "    * np.may_share_memory(a, b) 函数用来检查a, b两个ndarray对象是否共享内存,但是不一定正确，小心使用\n",
    "    * ndarray.copy() : 该函数会生成对应的ndarray对象的拷贝，不共享内存\n",
    "    * np.nonzero :\n",
    "        * 返回ndarray数组中非零数据的下表并形成新的数据\n",
    "        * 返回一个tuple,该tuple中记录了每一位中对对应的非零数据的下表，tuple(a, b, c),e.g. : ndarray(a[0], b[0], c[0])是一个非零数据\n",
    "        * 常用来提取我们的对应的ndarray数组中的非零项（返回的是一个展评的以为ndarray）: a[np.nonzero(a)]"
   ]
  },
  {
   "cell_type": "code",
   "execution_count": 38,
   "metadata": {
    "collapsed": false
   },
   "outputs": [
    {
     "name": "stdout",
     "output_type": "stream",
     "text": [
      "False\n",
      "True\n",
      "True\n"
     ]
    }
   ],
   "source": [
    "# 这种视图操作比较节省内存和时间，仅仅只是生成了对应的引用而已\n",
    "a = np.array([1])\n",
    "b = np.array([1])\n",
    "print(np.may_share_memory(a, b))\n",
    "b = a\n",
    "print(np.may_share_memory(a, b))\n",
    "\n",
    "c = np.linspace(0,100,100)\n",
    "d = c[:]\n",
    "print(np.may_share_memory(c, d))    # 拷贝和切片操作实现的是视图，并不产生新的内存中的数据，共享内存"
   ]
  },
  {
   "cell_type": "code",
   "execution_count": 42,
   "metadata": {
    "collapsed": false
   },
   "outputs": [
    {
     "name": "stdout",
     "output_type": "stream",
     "text": [
      "True\n",
      "False\n"
     ]
    }
   ],
   "source": [
    "# .copy\n",
    "a = np.array([1, 2])\n",
    "b = a\n",
    "print(np.may_share_memory(b, a))\n",
    "b = a.copy()\n",
    "print(np.may_share_memory(b, a))"
   ]
  },
  {
   "cell_type": "code",
   "execution_count": 4,
   "metadata": {
    "collapsed": false
   },
   "outputs": [
    {
     "data": {
      "text/plain": [
       "(array([    2,     3,     5, ..., 99971, 99989, 99991]),)"
      ]
     },
     "execution_count": 4,
     "metadata": {},
     "output_type": "execute_result"
    }
   ],
   "source": [
    "# 练习素数筛法\n",
    "is_prime = np.ones((100,), dtype=bool)    # 初始化生成对应的全成立的bool矩阵\n",
    "is_prime[:2] = 0\n",
    "n_max = int(np.sqrt(len(is_prime) - 1))    # 最大迭代次数\n",
    "for j in range(2, n_max + 1):\n",
    "    is_prime[2*j::j] = False\n",
    "np.nonzero(is_prime)    # 显示素数并打印"
   ]
  },
  {
   "cell_type": "markdown",
   "metadata": {},
   "source": [
    "* 索引技巧\n",
    "    * 切片索引 : 该索引方法上面已经涉及，返回的是视图，共享内存\n",
    "    * 布尔索引 : 返回拷贝，不共享内存\n",
    "    * 整数数组索引 : 返回拷贝，不共享内存，并且返回的ndarray的形状和整数数组的形状相同\n",
    "    * 多维度的索引方式都是上面三种"
   ]
  },
  {
   "cell_type": "code",
   "execution_count": 54,
   "metadata": {
    "collapsed": false
   },
   "outputs": [
    {
     "name": "stdout",
     "output_type": "stream",
     "text": [
      "[10  3  8  0 19 10 11  9 10  6  0 20 12  7 14]\n",
      "[False  True False  True False False False  True False  True  True False\n",
      "  True False False] bool\n",
      "[ 3  0  9  6  0 12]\n"
     ]
    }
   ],
   "source": [
    "# 布尔数组索引\n",
    "np.random.seed(3)\n",
    "a = np.random.randint(0, 21, 15)\n",
    "print(a)\n",
    "\n",
    "mask = a % 3 == 0    # 生成布尔数组\n",
    "print(mask, mask.dtype)\n",
    "\n",
    "extract_a = a[mask]     # 这里甚至可以是赋值操作，所以的基础上赋值是广播的赋值操作，上面也提及过\n",
    "print(extract_a)"
   ]
  },
  {
   "cell_type": "code",
   "execution_count": 62,
   "metadata": {
    "collapsed": false
   },
   "outputs": [
    {
     "name": "stdout",
     "output_type": "stream",
     "text": [
      "(2, 2) (2, 2)\n",
      "[0 1 2 3 4 5 6 7 8 9]\n",
      "[[3 4]\n",
      " [9 7]]\n"
     ]
    }
   ],
   "source": [
    "# 整数数组索引\n",
    "a = np.arange(10)\n",
    "idx = np.array([[3, 4], [9, 7]])\n",
    "print(a[idx].shape, idx.shape)\n",
    "print(a)\n",
    "print(idx)"
   ]
  },
  {
   "cell_type": "markdown",
   "metadata": {},
   "source": [
    "* 元素级别运算，速度更快\n",
    "    * 数组乘法不是矩阵乘法\n",
    "        * 数组乘法 : 元素分别相乘，规模不变\n",
    "        * 矩阵乘法 : 矩阵乘法原则，规模可能改变\n",
    "    * 比较\n",
    "        * == / != 全部生成对应的布尔向量\n",
    "        * np.logical_or / np.logical_and / np.logical_not / np.logical_xor\n",
    "        * np.array_equal(a, b) : 判断两个数组是否值相等,浮点数和整数之间差异不考虑\n",
    "    * ufunc :\n",
    "        * np.sin\n",
    "        * np.cos\n",
    "        * np.exp\n",
    "        * np.log\n",
    "    * .T : 转置,共享内存，是一个视图\n",
    "    * np.allclose（a, b. rtol = 1e-05, atol = 1e-08, equal_nan = False） :  \n",
    "        返回bool决定是否两个ndarray对象在误差范围内是相等的  \n",
    "        **大于**误差就返回False,小于等于满足True\n",
    "        * a, b\n",
    "        * rtol : 对b的相对误差内， rtol * abs(b)\n",
    "        * atol : 绝对误差，确定值\n",
    "        * equal_nan : True屏蔽掉nan,如果有nan自动返回False"
   ]
  },
  {
   "cell_type": "code",
   "execution_count": 64,
   "metadata": {
    "collapsed": false
   },
   "outputs": [
    {
     "name": "stdout",
     "output_type": "stream",
     "text": [
      "[1 2 3 4 5] [0 2 4 6 8] [ 1  2  4  8 16]\n"
     ]
    }
   ],
   "source": [
    "a = np.arange(5)\n",
    "print(a + 1, a * 2, 2**a)"
   ]
  },
  {
   "cell_type": "code",
   "execution_count": 67,
   "metadata": {
    "collapsed": false
   },
   "outputs": [
    {
     "name": "stdout",
     "output_type": "stream",
     "text": [
      "[ 0  1  4  9 16]\n",
      "30\n"
     ]
    }
   ],
   "source": [
    "# 乘法\n",
    "a = np.arange(5)\n",
    "print(a * a)    # 数组乘法，各元素相乘，规模不变\n",
    "print(a.dot(a))    # 矩阵乘法,行向量乘列向量(自动转换成列向量)返回标量"
   ]
  },
  {
   "cell_type": "code",
   "execution_count": 76,
   "metadata": {
    "collapsed": false
   },
   "outputs": [
    {
     "name": "stdout",
     "output_type": "stream",
     "text": [
      "False\n",
      "True\n"
     ]
    }
   ],
   "source": [
    "a = np.array(1.10)\n",
    "b = np.array(1.11)\n",
    "print(np.allclose(a, b, atol = 0.001))\n",
    "print(np.allclose(a, b, matol = 0.01))   # 刚好满足"
   ]
  },
  {
   "cell_type": "markdown",
   "metadata": {},
   "source": [
    "* 基本运算约定\n",
    "    * 轴 : axis0 是竖轴方向， axis1 是横轴方向 ,之后的高纬度就没有办法想象了，只有按照标号来判断\n",
    "    * ufunc: 大部分具有axis属性\n",
    "        * np.sum\n",
    "        * np.argmin\n",
    "        * np.argmax\n",
    "        * np.sqrt\n",
    "        * np.all : 只要ndarray中全部都非0返回True\n",
    "        * np.any : 只要ndarray中有一个非0返回True\n",
    "        * np.mean : 求制定axis上的算数平平均值\n",
    "        * np.media : 求中位数\n",
    "        * np.std : 求标准差\n",
    "        * np.cumsum : 求累计和\n",
    "        * np.unique : 返回已经排序好的独立的元素(不重复)\n",
    "    * np.loadtxt :  \n",
    "        将txt文本中的数据抽取到一个ndarray中，要求都是数据并且每一行的数据的个数相同,分隔符不限但是不要出现编码问题\n",
    "    * 解包  \n",
    "        a, b, c = ndarray     # ndarray is a (3 * n) array, it can work"
   ]
  },
  {
   "cell_type": "code",
   "execution_count": 84,
   "metadata": {
    "collapsed": false
   },
   "outputs": [
    {
     "name": "stdout",
     "output_type": "stream",
     "text": [
      "[3 3] [2 4]\n",
      "[3 3] [2 4]\n"
     ]
    }
   ],
   "source": [
    "# 加法\n",
    "x = np.array([[1, 1], [2, 2]])\n",
    "print(x.sum(axis=0), x.sum(axis=1))\n",
    "print(np.sum(x, axis=0), np.sum(x, axis=1))"
   ]
  },
  {
   "cell_type": "markdown",
   "metadata": {},
   "source": [
    "* 广播运算  \n",
    "    * Numpy数组的基本运算都是数组元素级别的，这一点适用于大小规模相同(或者可以广播成大小规模相同 --- 广播)的数组\n",
    "        * 输出维数同最大的维数,维数不足前面补1\n",
    "        * shape大小是所有的最大值\n",
    "        * 只有轴长是1才可以广播\n",
    "    * np.ogrid :  \n",
    "        快速创建多个维度的一维数组\n",
    "        np.ogrid[0:5, 0:5]\n",
    "    * np.mgrid :    \n",
    "        快速创建整个矩阵，广播后"
   ]
  },
  {
   "cell_type": "code",
   "execution_count": 87,
   "metadata": {
    "collapsed": false
   },
   "outputs": [
    {
     "name": "stdout",
     "output_type": "stream",
     "text": [
      "[[ 0  1  2]\n",
      " [10 11 12]\n",
      " [20 21 22]\n",
      " [30 31 32]] (4, 3)\n"
     ]
    }
   ],
   "source": [
    "a = np.tile(np.arange(0, 40, 10), (3, 1)).T + np.array([0, 1, 2])    # (4 * 3) * (3,) => (4,3) * (4,3)\n",
    "print(a, a.shape)"
   ]
  },
  {
   "cell_type": "code",
   "execution_count": 90,
   "metadata": {
    "collapsed": false
   },
   "outputs": [
    {
     "name": "stdout",
     "output_type": "stream",
     "text": [
      "[[ 1.  1.  1.  1.  1.]\n",
      " [ 1.  1.  1.  1.  1.]\n",
      " [ 1.  1.  1.  1.  1.]\n",
      " [ 1.  1.  1.  1.  1.]]\n",
      "[[ 2.  2.  2.  2.  2.]\n",
      " [ 1.  1.  1.  1.  1.]\n",
      " [ 1.  1.  1.  1.  1.]\n",
      " [ 1.  1.  1.  1.  1.]]\n"
     ]
    }
   ],
   "source": [
    "# 最有意思的广播　－　赋值\n",
    "a = np.ones((4, 5))\n",
    "print(a)\n",
    "a[0] = 2    # (5,) * () => (5,) , 并且是视图形式，内存共享\n",
    "print(a)"
   ]
  },
  {
   "cell_type": "code",
   "execution_count": 95,
   "metadata": {
    "collapsed": false
   },
   "outputs": [
    {
     "name": "stdout",
     "output_type": "stream",
     "text": [
      "[[0]\n",
      " [1]\n",
      " [2]\n",
      " [3]\n",
      " [4]] [[0 1 2 3 4]]\n",
      "[[0 0 0 0 0]\n",
      " [1 1 1 1 1]\n",
      " [2 2 2 2 2]\n",
      " [3 3 3 3 3]\n",
      " [4 4 4 4 4]]\n",
      "[[0 1 2 3 4]\n",
      " [0 1 2 3 4]\n",
      " [0 1 2 3 4]\n",
      " [0 1 2 3 4]\n",
      " [0 1 2 3 4]]\n"
     ]
    }
   ],
   "source": [
    "x, y = np.ogrid[0:5, 0:5]\n",
    "print(x, y)\n",
    "x, y = np.mgrid[0:5, 0:5]\n",
    "print(x)\n",
    "print(y)"
   ]
  },
  {
   "cell_type": "markdown",
   "metadata": {},
   "source": [
    "* 修改形状\n",
    "    * 展平 : 高维先解开\n",
    "        * np.ravel : 视图\n",
    "        * ndarray.flatten : 拷贝\n",
    "    * 重塑 : reshape, .shape\n",
    "        * .shape : 原地修改\n",
    "        * reshape : 不一定\n",
    "    * 增加维度 :   \n",
    "        a[:,np.newsize] / a[np.newsize,:]\n",
    "    * 维度交换\n",
    "        * np.transpose(ndarray, list)    \n",
    "        * list指示我们的新序列的原始index\n",
    "        * 返回一个视图，内存共享\n",
    "    * 更改大小\n",
    "        * np.resize(ndarray, size=(xxx,xxx))\n",
    "        * 循环使用原有的数据构建新的ndarray数组\n",
    "        * 更改大小的数组必须要求没有被重新的引用过"
   ]
  },
  {
   "cell_type": "code",
   "execution_count": 97,
   "metadata": {
    "collapsed": false
   },
   "outputs": [
    {
     "name": "stdout",
     "output_type": "stream",
     "text": [
      "[[1 2 3]\n",
      " [4 5 6]]\n",
      "[1 2 3 4 5 6]\n"
     ]
    }
   ],
   "source": [
    "# 展平\n",
    "a = np.array([[1, 2, 3], [4, 5, 6]])\n",
    "print(a)\n",
    "print(a.ravel())"
   ]
  },
  {
   "cell_type": "markdown",
   "metadata": {},
   "source": [
    "* 数组排序  \n",
    "    axis 是按照每一个行或者列来进行排序\n",
    "    * np.sort\n",
    "    * np.argsort\n",
    "    * np.argmin\n",
    "    * np.argmax\n",
    "    * np.random.shuffle : 创建乱序数组"
   ]
  },
  {
   "cell_type": "code",
   "execution_count": 7,
   "metadata": {
    "collapsed": false
   },
   "outputs": [
    {
     "name": "stdout",
     "output_type": "stream",
     "text": [
      "[[1 2 3]\n",
      " [4 3 5]]\n",
      "[[3 4 5]\n",
      " [1 2 3]]\n",
      "[1 2 3 4]\n"
     ]
    }
   ],
   "source": [
    "a = np.array([[4, 3, 5], [1, 2, 3]])\n",
    "b = np.sort(a, axis=0)\n",
    "print(b)\n",
    "a.sort(axis = 1)\n",
    "print(a)\n",
    "# 好玩的索引\n",
    "a = np.array([4,2,1,3])\n",
    "print(a[np.argsort(a)])"
   ]
  },
  {
   "cell_type": "code",
   "execution_count": 10,
   "metadata": {
    "collapsed": false
   },
   "outputs": [
    {
     "name": "stdout",
     "output_type": "stream",
     "text": [
      "0 1\n"
     ]
    }
   ],
   "source": [
    "a = np.array([1,4,2,3])\n",
    "print(np.argmin(a), np.argmax(a))"
   ]
  },
  {
   "cell_type": "markdown",
   "metadata": {},
   "source": [
    "* Numpy使用技巧\n",
    "    * np.lookfor : 查询对应功能的函数\n",
    "    * help\n",
    "    * func?\n",
    "    * func??"
   ]
  },
  {
   "cell_type": "markdown",
   "metadata": {},
   "source": [
    "* 数据类型\n",
    "    * 赋值不会改变数组的类型\n",
    "    * 混合操作中选取较大类型的数据\n",
    "    * 数组强制类型转换  \n",
    "        .astype(np.int32)\n",
    "    * 四舍五入\n",
    "        np.around(ndarray, decimals=0)\n",
    "    * 基本数据类型\n",
    "        * int8 / int16 / int32 / int64（默认）  \n",
    "            np.iinfo(np.int32) : 返回机器字长限制（int类型）\n",
    "        * uint8 / unint16 / uint32 / uint64(默认)\n",
    "        * float16 / float32 / float64(默认) / float96 / float128  \n",
    "            np.finfo(np.float)\n",
    "        * complex64 / complex128(默认) / complex192 / complex256"
   ]
  },
  {
   "cell_type": "code",
   "execution_count": 21,
   "metadata": {
    "collapsed": false
   },
   "outputs": [
    {
     "name": "stdout",
     "output_type": "stream",
     "text": [
      "int64\n",
      "float64\n",
      "int64\n",
      "[ 1.  2.  3.]\n"
     ]
    }
   ],
   "source": [
    "# 赋值的类型是不会转变的\n",
    "a = np.arange(10)\n",
    "a[0] = 1.0 \n",
    "print(a.dtype)\n",
    "# 混合操作中去较大类型\n",
    "a = a + 1.2\n",
    "print(a.dtype)\n",
    "# 数组类型强制转换\n",
    "a = a.astype(np.int)\n",
    "print(a.dtype)\n",
    "# 四舍五入\n",
    "a = np.array([1.0, 2.1, 3.2])\n",
    "print(np.around(a))"
   ]
  },
  {
   "cell_type": "code",
   "execution_count": 24,
   "metadata": {
    "collapsed": false
   },
   "outputs": [
    {
     "name": "stdout",
     "output_type": "stream",
     "text": [
      "Machine parameters for int32\n",
      "---------------------------------------------------------------\n",
      "min = -2147483648\n",
      "max = 2147483647\n",
      "---------------------------------------------------------------\n",
      "\n",
      "Machine parameters for uint32\n",
      "---------------------------------------------------------------\n",
      "min = 0\n",
      "max = 4294967295\n",
      "---------------------------------------------------------------\n",
      "\n"
     ]
    }
   ],
   "source": [
    "print(np.iinfo(np.int32))\n",
    "print(np.iinfo(np.uint32))"
   ]
  },
  {
   "cell_type": "markdown",
   "metadata": {},
   "source": [
    "* 结构化数据类型(结构体)  \n",
    "    * 定义  \n",
    "        dtype = [('key', 'S4'), ('key', float), ('key', int)]　(内部自动转化成dtype对象记录结构体的类型)\n",
    "    * 引用字段   \n",
    "        * 类似dict的API\n",
    "        * 多个字段"
   ]
  },
  {
   "cell_type": "code",
   "execution_count": 32,
   "metadata": {
    "collapsed": false
   },
   "outputs": [
    {
     "name": "stdout",
     "output_type": "stream",
     "text": [
      "1 [('name', 'S8'), ('value', '<f8')] (6,)\n",
      "[(b'1',  1.) (b'1',  1.) (b'1',  1.) (b'1',  1.) (b'1',  1.) (b'1',  1.)]\n",
      "[(b'1',  1.) (b'1',  1.) (b'1',  1.) (b'1',  1.) (b'1',  1.) (b'1',  1.)]\n"
     ]
    }
   ],
   "source": [
    "samples = np.ones((6,), dtype=[('name', 'S8'), ('value', np.float64)])    # ８字符字符串，一个float64类型构成的结构体\n",
    "print(samples.ndim, samples.dtype, samples.shape)\n",
    "print(samples)\n",
    "# 一次多个字段的访问\n",
    "print(samples[['name', 'value']])"
   ]
  },
  {
   "cell_type": "markdown",
   "metadata": {},
   "source": [
    "* 掩码函数  \n",
    "    x = np.ma.array([1, 2, 3, 4], mask=[0, 1, 0, 1])    # mask为0或者是False的数据参与计算，其他的过滤\n",
    "* 多项式"
   ]
  },
  {
   "cell_type": "code",
   "execution_count": 41,
   "metadata": {
    "collapsed": false
   },
   "outputs": [
    {
     "name": "stdout",
     "output_type": "stream",
     "text": [
      "   3     2\n",
      "3 x + 2 x - 1 x + 4\n",
      "4 -1 2\n",
      "[-1.49048770+0.j          0.41191052+0.85140561j  0.41191052-0.85140561j]\n",
      "3\n"
     ]
    }
   ],
   "source": [
    "# 注意多项式类型可以直接函数使用，代表变量带入求值    p(-1) = 0\n",
    "p = np.poly1d([3, 2, -1, 4])    # 3x^2 + 2*x - 1\n",
    "print(p)\n",
    "print(p[0], p[1], p[2])\n",
    "print(p.roots)    # 求根\n",
    "print(p.order)    # 最高次项的次数"
   ]
  },
  {
   "cell_type": "code",
   "execution_count": 50,
   "metadata": {
    "collapsed": false
   },
   "outputs": [
    {
     "data": {
      "text/plain": [
       "[<matplotlib.lines.Line2D at 0x7fb44ee4f128>,\n",
       " <matplotlib.lines.Line2D at 0x7fb44ee4f2b0>]"
      ]
     },
     "execution_count": 50,
     "metadata": {},
     "output_type": "execute_result"
    },
    {
     "data": {
      "image/png": "[encoded data removed]",
      "text/plain": [
       "<matplotlib.figure.Figure at 0x7fb4527e1f60>"
      ]
     },
     "metadata": {},
     "output_type": "display_data"
    }
   ],
   "source": [
    "%matplotlib inline\n",
    "# 多项式的线性最小二乘法拟合\n",
    "x = np.linspace(0, 1, 20)\n",
    "y = np.cos(x) + 0.3 * np.random.rand(20)\n",
    "p = np.polyfit(x, y, 3)    # 拟合返回多项式系数，最高次数优先\n",
    "n = np.poly1d(p)\n",
    "t = np.linspace(0, 1, 200)\n",
    "plt.plot(x, y, 'o', t, n(t), '-')"
   ]
  },
  {
   "cell_type": "code",
   "execution_count": 54,
   "metadata": {
    "collapsed": false
   },
   "outputs": [
    {
     "data": {
      "text/plain": [
       "[<matplotlib.lines.Line2D at 0x7fb44ed85908>,\n",
       " <matplotlib.lines.Line2D at 0x7fb44ed85a58>]"
      ]
     },
     "execution_count": 54,
     "metadata": {},
     "output_type": "execute_result"
    },
    {
     "data": {
      "image/png": "[encoded data removed]",
      "text/plain": [
       "<matplotlib.figure.Figure at 0x7fb44ee0a3c8>"
      ]
     },
     "metadata": {},
     "output_type": "display_data"
    }
   ],
   "source": [
    "np.polynomial.Chebyshev    # 切比雪夫\n",
    "np.polynomial.Polynomial    # 普通的多项式，高次数系数在最后，和上面相反， .roots(), .degree(), p(...)\n",
    "\n",
    "# 切比雪夫插值\n",
    "%matplotlib inline\n",
    "x = np.linspace(-1, 1, 2000)\n",
    "y = np.cos(x) + 0.3 * np.random.rand(2000)\n",
    "p = np.polynomial.Chebyshev.fit(x, y, 90)    # 90级的切比雪夫插值拟合\n",
    "t = np.linspace(-1, 1, 200)\n",
    "plt.plot(x, y, 'r.', t, p(t), 'k-', lw=3)"
   ]
  },
  {
   "cell_type": "markdown",
   "metadata": {},
   "source": [
    "* 数据文件操作\n",
    "    * np.loadtxt : 前面提到过,comments默认是#,带#的行默认忽略\n",
    "    * np.savetxt('filename', ndarray) : 保存数据"
   ]
  }
 ],
 "metadata": {
  "kernelspec": {
   "display_name": "Python 3",
   "language": "python",
   "name": "python3"
  },
  "language_info": {
   "codemirror_mode": {
    "name": "ipython",
    "version": 3
   },
   "file_extension": ".py",
   "mimetype": "text/x-python",
   "name": "python",
   "nbconvert_exporter": "python",
   "pygments_lexer": "ipython3",
   "version": "3.5.2"
  }
 },
 "nbformat": 4,
 "nbformat_minor": 2
}
