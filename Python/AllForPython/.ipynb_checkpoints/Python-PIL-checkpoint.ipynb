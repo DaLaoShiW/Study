{
 "cells": [
  {
   "cell_type": "markdown",
   "metadata": {},
   "source": [
    "### Python-PIL \n",
    "图形处理模块浅析\n",
    "\n",
    "---\n",
    "\n",
    "导入库"
   ]
  },
  {
   "cell_type": "code",
   "execution_count": 4,
   "metadata": {
    "collapsed": true
   },
   "outputs": [],
   "source": [
    "from PIL import Image\n",
    "# 定义测试图片的路径\n",
    "path = '/home/lantian/Pictures/01bfc95adfa3fe556dae482d4c029879'"
   ]
  },
  {
   "cell_type": "markdown",
   "metadata": {},
   "source": [
    "简单示例，读取图片并旋转45°显示 (会打开系统的图片管理器显示)"
   ]
  },
  {
   "cell_type": "code",
   "execution_count": 14,
   "metadata": {
    "collapsed": false
   },
   "outputs": [
    {
     "name": "stdout",
     "output_type": "stream",
     "text": [
      "<class 'PIL.Image.Image'>\n"
     ]
    }
   ],
   "source": [
    "image = Image.open(path)\n",
    "# 新的图片 p\n",
    "p = image.rotate(45)\n",
    "p.show()"
   ]
  },
  {
   "cell_type": "markdown",
   "metadata": {},
   "source": [
    "保存上述的图像到指定的目录下,保存格式是 `png`"
   ]
  },
  {
   "cell_type": "code",
   "execution_count": 16,
   "metadata": {
    "collapsed": false
   },
   "outputs": [],
   "source": [
    "p.save('/home/lantian/test.png', 'png')"
   ]
  },
  {
   "cell_type": "markdown",
   "metadata": {},
   "source": [
    "原地创建缩略图并制定大小和缩略的策略"
   ]
  },
  {
   "cell_type": "code",
   "execution_count": 17,
   "metadata": {
    "collapsed": true
   },
   "outputs": [],
   "source": [
    "# Image.ANTIALIAS 等比例缩略，按照原来的维度的比例缩率得到新的缩略图，可能不是 128 * 128 大小\n",
    "# 其他的缩率情况具体查看文档\n",
    "p.thumbnail((128, 128), Image.ANTIALIAS)\n",
    "p.show()"
   ]
  },
  {
   "cell_type": "markdown",
   "metadata": {},
   "source": [
    "图片合成（融合）\n",
    "1. `Image.alpha_composite(im1, im2)` : `im1, im2` 大小必须相同并且都存在 `RGBA` 四种通道才可以合成图片\n",
    "\n",
    "2. `Image.blend(im1, im2, alpha)` : \n",
    "    * 以 `alpha` 的比例重合两个图片，计算公式如下 `out = im1 * (1 - alpha) + im2 * alpha`\n",
    "    * 同样要求图片具有想吐的大小和模式"
   ]
  },
  {
   "cell_type": "code",
   "execution_count": 63,
   "metadata": {
    "collapsed": false
   },
   "outputs": [],
   "source": [
    "# new_im = Image.alpha_composite(im1, im2)\n",
    "im1 = Image.open('/home/lantian/test.png')\n",
    "im2 = Image.open('/home/lantian/test2.png')\n",
    "out = Image.blend(im1, im2, 0.1)\n",
    "out.show()"
   ]
  },
  {
   "cell_type": "markdown",
   "metadata": {},
   "source": [
    "图像计算\n",
    "   * `im_new = Image.eval(im, function)`\n",
    "   * 逐个像素应用函数 `function` 处理并返回新的图片"
   ]
  },
  {
   "cell_type": "code",
   "execution_count": 23,
   "metadata": {
    "collapsed": true
   },
   "outputs": [],
   "source": [
    "# 每一个像素加大`2`倍显示\n",
    "im_new = Image.eval(im1, lambda i : i * 2)\n",
    "im_new.show()"
   ]
  },
  {
   "cell_type": "markdown",
   "metadata": {},
   "source": [
    "创建图像\n",
    "1. `Image.new(mode, size, color=0)`\n",
    "   * `mode` : \n",
    "       * L : 灰度图像\n",
    "       * RGB : 三色通道图像\n",
    "       * RGBA : 三色和透明度图像\n",
    "   * `size` : `(width, height)` 元组表示图片的大小\n",
    "   * `color` : 和 `mode` 对应的像素初始化元组,默认是黑色（0）\n",
    "       * 灰度图像 : `255` - 白色\n",
    "       * RGB : (20, 200, 45) - 三色通道\n",
    "       * RGBA : (20, 200, 45, 255) - 四个通道的默认\n",
    "       \n",
    "2. `Image.fromarray(obj, mode=None)`\n",
    "    1. 使用数组对象创建图像，可以使用 `numpy.ndarray` , 这一点对 `tensorflow` 以及 `numpy` 非常友好\n",
    "    2. `mode` : 决定使用的图像的类型，灰度图像，RGB,RGBA都可以"
   ]
  },
  {
   "cell_type": "code",
   "execution_count": 68,
   "metadata": {
    "collapsed": false
   },
   "outputs": [],
   "source": [
    "# 创建灰度图像并显示,颜色是白色\n",
    "im = Image.new('L', (50, 50))\n",
    "# im.show()\n",
    "\n",
    "# 创建RGB图像并显示\n",
    "im = Image.new('RGB', (50, 50), (20, 200, 45))\n",
    "# im.show()\n",
    "\n",
    "# 创建RGBA图像并显示\n",
    "im = Image.new('RGBA', (50, 50), (20, 200, 45, 0))\n",
    "# im.show()\n",
    "\n",
    "# 从数组创建\n",
    "array = np.random.randint(0, 256, size=(50, 50))\n",
    "# 创建灰度图像\n",
    "im = Image.fromarray(array, mode = 'L')\n",
    "im.show()"
   ]
  },
  {
   "cell_type": "markdown",
   "metadata": {},
   "source": [
    "获取图像像素数据  \n",
    "`Image.getdata(band=None)`\n",
    "   * 数据被展平，没有了 `height` 和 `width` 只存在序列和通道\n",
    "   * `mode` 可以制定被返回的通道,比如 0 只返回了通道中的红色通道数据,一次类推\n",
    "   * 返回迭代器\n",
    "\n",
    "`Image.getpixel((x, y))`  \n",
    "`Image.tobytes()` : 这个函数在 `tensorflow` 创建图像的 `TFRecord` 文件的时候经常使用"
   ]
  },
  {
   "cell_type": "code",
   "execution_count": 51,
   "metadata": {
    "collapsed": false
   },
   "outputs": [
    {
     "name": "stdout",
     "output_type": "stream",
     "text": [
      "[(25, 0, 0), (0, 0, 0), (0, 0, 133), (0, 0, 0), (0, 0, 0)]\n",
      "[25, 0, 0, 0, 0]\n"
     ]
    }
   ],
   "source": [
    "print(list(im.getdata())[:5])\n",
    "# 只获取红色通道的像素数据\n",
    "print(list(im.getdata(0))[:5])"
   ]
  },
  {
   "cell_type": "code",
   "execution_count": 83,
   "metadata": {
    "collapsed": false
   },
   "outputs": [
    {
     "data": {
      "text/plain": [
       "15"
      ]
     },
     "execution_count": 83,
     "metadata": {},
     "output_type": "execute_result"
    }
   ],
   "source": [
    "# 获取像素点\n",
    "im.getpixel((0, 0))"
   ]
  },
  {
   "cell_type": "markdown",
   "metadata": {},
   "source": [
    "图像的缩放，和尺寸调整\n",
    "   **非常重要的功能，对于 `Tensorflow` 和其他的图像处理任务来说**\n",
    "\n",
    "`Image.resize(size, resample = 0, box=None)`\n",
    "   * `size` : `(width, height)`, 对图片的制定大小的缩放\n",
    "   * `resample` : 缩放的模式，采用的模式"
   ]
  },
  {
   "cell_type": "code",
   "execution_count": 54,
   "metadata": {
    "collapsed": true
   },
   "outputs": [],
   "source": [
    "im2.resize((128, 128)).show()"
   ]
  },
  {
   "cell_type": "markdown",
   "metadata": {},
   "source": [
    "图像的灰度化\n",
    "1. 手动灰度化\n",
    "2. 参数方法 ： `Image.convert(mode=None,matrix=None,dither=None,palette=0,color=256)`\n",
    "   * `mode` : L, RGB, RGBA"
   ]
  },
  {
   "cell_type": "code",
   "execution_count": 78,
   "metadata": {
    "collapsed": false
   },
   "outputs": [],
   "source": [
    "# 手动灰度化\n",
    "im_2 = im2.resize((128, 128))\n",
    "im_data_2 = list(im_2.getdata())\n",
    "\n",
    "pause = []\n",
    "\n",
    "for i in im_data_2:\n",
    "    # 均值灰度化\n",
    "    pause.append([(i[0] + i[1] + i[2]) / 3])\n",
    "\n",
    "pause = np.array(pause).reshape(128, 128)\n",
    "im_2 = Image.fromarray(pause)\n",
    "im_2.show()\n",
    "\n",
    "# convert 转换成灰度图\n",
    "im22 = im2.resize((128, 128))\n",
    "im_2 = im22.convert('L')\n",
    "im_2.show()"
   ]
  },
  {
   "cell_type": "markdown",
   "metadata": {},
   "source": [
    "图像基本信息获取\n",
    "1. 图像的大小 ： `img.size`\n",
    "2. 图像的`mode` : `img.mode`\n",
    "3. 图像的格式 : `img.format`"
   ]
  },
  {
   "cell_type": "code",
   "execution_count": 80,
   "metadata": {
    "collapsed": false
   },
   "outputs": [
    {
     "data": {
      "text/plain": [
       "((1920, 1080), 'RGB', 'JPEG')"
      ]
     },
     "execution_count": 80,
     "metadata": {},
     "output_type": "execute_result"
    }
   ],
   "source": [
    "im2.size, im2.mode, im2.format"
   ]
  }
 ],
 "metadata": {
  "kernelspec": {
   "display_name": "Python 3",
   "language": "python",
   "name": "python3"
  },
  "language_info": {
   "codemirror_mode": {
    "name": "ipython",
    "version": 3
   },
   "file_extension": ".py",
   "mimetype": "text/x-python",
   "name": "python",
   "nbconvert_exporter": "python",
   "pygments_lexer": "ipython3",
   "version": "3.5.2"
  }
 },
 "nbformat": 4,
 "nbformat_minor": 2
}
