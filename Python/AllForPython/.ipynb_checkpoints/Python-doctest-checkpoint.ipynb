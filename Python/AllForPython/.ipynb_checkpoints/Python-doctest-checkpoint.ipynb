{
 "cells": [
  {
   "cell_type": "markdown",
   "metadata": {
    "collapsed": false
   },
   "source": [
    "## 1.Doctest Module  \n"
   ]
  },
  {
   "cell_type": "markdown",
   "metadata": {},
   "source": [
    "什么是doc文档，在我们的python中，模块和函数之前的**最开头**我们可以为我们的函数和模块增加一段字符串，一般这样的字符串我们称之为是文档字符串，通常调用模块或者函数的\\_\\_doc\\_\\_属性就可以查看，但是爱这里我们就要揭示文档字符串的另一个用处——代码测试\n",
    "\n",
    "1. doctest模块是python的标准库模块，目的是为了便捷化我们在开发中对代码的测试用例的简化  \n",
    "    1. 我们都知道，我们编码完成之后都需要我们利用相应的测试用例来检测我们的编写的代码的正确性，所以说我们通常都需要手动的构造相应的测试用例  \n",
    "在这里，一般我们的测试用例都是固定的，但是我们有事后为了不断的优化和修改我们的代码的特性，有可能会对我们的代码的正确性造成相应的的影响  \n",
    "为了加快和清晰我们的代码的测试用例的显示，我们通常使用doctest模块来进行相应的测试   \n",
    "\n",
    "    2. 实际上，我们都是在命令行中调用python解释器执行我们的脚本，然后手动的输入用例  \n",
    "但是现在我们可以采用docstring的doctest的方法，在我们的脚本中，我们在docstring中输入我们的用例来自动的进行测试\n",
    "\n",
    "2. 语法\n",
    "doctest的语法就是在doctest中使用>>> 类似这样的在交互式界面中才会使用的符号，然后描述相应的输入输出就好\n",
    "\n",
    "3. 块测试：  \n",
    "    1. 一个模块中有很多的要测试函数，我们在模块的最开始可以添加很多的不同的测试不同的函数测使用例  \n",
    "对于模块测试，我们可以在命令行中使用 `python3 -m doctest -v xxx.py` 在外部添加 `doctest` 模块运行  \n",
    "也可以在 `__name__ == '__main__'` 中现实的调用doctest模块然后使用testmod(verbose=True)属性来直接使用 `python3 xxx.py` 直接的调用我们的模块测试  \n",
    "其中的 `-v` 参数表示我们的罗列测试的详细信息，这在我们查找测试的错误的时候非常的有用\n",
    "\n",
    "    2. 通过模块测试的一点我们可以得到启发：  \n",
    "在实际的编写函数中，我们通常都使用\n",
    "```\n",
    "if __name__ == '__main__'：\n",
    "```\n",
    "该语句来实现我们的测试驱动编程，我们将我们要实现的模块封装在我们的函数中，通过上面的语句我们在 `if` 语句内实现的 `import` 模块 `doctest` 我们在主测试的时候快速的到我们的模块测试的结果和错误的信息  "
   ]
  },
  {
   "cell_type": "code",
   "execution_count": 1,
   "metadata": {
    "collapsed": false
   },
   "outputs": [
    {
     "name": "stdout",
     "output_type": "stream",
     "text": [
      "Trying:\n",
      "    a(2)\n",
      "Expecting:\n",
      "    3\n",
      "ok\n",
      "Trying:\n",
      "    b(1)\n",
      "Expecting:\n",
      "    0\n",
      "ok\n",
      "2 items had no tests:\n",
      "    __main__.a\n",
      "    __main__.b\n",
      "1 items passed all tests:\n",
      "   2 tests in __main__\n",
      "2 tests in 3 items.\n",
      "2 passed and 0 failed.\n",
      "Test passed.\n"
     ]
    }
   ],
   "source": [
    "# 文件内测试\n",
    "\n",
    "'''\n",
    ">>> a(2)\n",
    "3\n",
    ">>> b(1)\n",
    "0\n",
    "'''\n",
    "def a(x):\n",
    "    '''\n",
    "    这里也可以加\n",
    "    '''\n",
    "    return x+1\n",
    "def b(x):\n",
    "    return x-1\n",
    "\n",
    "if __name__ == \"__main__\":\n",
    "    import doctest\n",
    "    doctest.testmod(verbose = True)"
   ]
  },
  {
   "cell_type": "markdown",
   "metadata": {},
   "source": [
    "4. 原理   \n",
    "我们的测试的文档字符串其实的含义就是，在调用我们的doctest之后，我们会在py文件中去查找那些看起来是交互式界面下使用的语句，然后自动的调用执行并测试返回结果\n",
    "\n",
    "5. 测试文件\n",
    "其实我们完全可以实现我们的测试文件和我们的运行文件的分离   \n",
    "只要我们的在文件中使用了了相同的交互式的语句结构（不使用引号）  \n",
    "\n",
    "6. doctest模块的主要使用函数：  \n",
    "    * `testmod` :测试模块， `verbose` 参数表示详细列出，默认不列出\n",
    "    * `testfile` ：测试文件，将文件名的字符串作为参数， `verbose` 同上，**主要用在交互式解释器中** "
   ]
  }
 ],
 "metadata": {
  "kernelspec": {
   "display_name": "Python 3",
   "language": "python",
   "name": "python3"
  },
  "language_info": {
   "codemirror_mode": {
    "name": "ipython",
    "version": 3
   },
   "file_extension": ".py",
   "mimetype": "text/x-python",
   "name": "python",
   "nbconvert_exporter": "python",
   "pygments_lexer": "ipython3",
   "version": "3.5.2"
  }
 },
 "nbformat": 4,
 "nbformat_minor": 2
}
