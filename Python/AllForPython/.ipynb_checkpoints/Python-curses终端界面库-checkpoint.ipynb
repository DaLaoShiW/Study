{
 "cells": [
  {
   "cell_type": "markdown",
   "metadata": {},
   "source": [
    "Python的curses库对我们的C的一些在终端实现屏幕终端渲染效果的库进行了更简单的python化的封装"
   ]
  },
  {
   "cell_type": "code",
   "execution_count": 10,
   "metadata": {
    "collapsed": false
   },
   "outputs": [
    {
     "ename": "NameError",
     "evalue": "name 'height' is not defined",
     "output_type": "error",
     "traceback": [
      "\u001b[0;31m---------------------------------------------------------------------------\u001b[0m",
      "\u001b[0;31mNameError\u001b[0m                                 Traceback (most recent call last)",
      "\u001b[0;32m<ipython-input-10-473cdf1d6858>\u001b[0m in \u001b[0;36m<module>\u001b[0;34m()\u001b[0m\n\u001b[1;32m      6\u001b[0m \u001b[0mcurses\u001b[0m\u001b[0;34m.\u001b[0m\u001b[0mnoecho\u001b[0m\u001b[0;34m(\u001b[0m\u001b[0;34m)\u001b[0m    \u001b[0;31m# 关闭屏幕的回显，只在合适的时候输出屏幕内容,用户的输入不会显示在屏幕上\u001b[0m\u001b[0;34m\u001b[0m\u001b[0m\n\u001b[1;32m      7\u001b[0m \u001b[0mcurses\u001b[0m\u001b[0;34m.\u001b[0m\u001b[0mecho\u001b[0m\u001b[0;34m(\u001b[0m\u001b[0;34m)\u001b[0m    \u001b[0;31m# 打开屏幕的回显\u001b[0m\u001b[0;34m\u001b[0m\u001b[0m\n\u001b[0;32m----> 8\u001b[0;31m \u001b[0mcurses\u001b[0m\u001b[0;34m.\u001b[0m\u001b[0mnewwin\u001b[0m\u001b[0;34m(\u001b[0m\u001b[0mheight\u001b[0m \u001b[0;34m,\u001b[0m \u001b[0mwidth\u001b[0m \u001b[0;34m,\u001b[0m \u001b[0mbeginy\u001b[0m \u001b[0;34m,\u001b[0m \u001b[0mbeginx\u001b[0m\u001b[0;34m)\u001b[0m    \u001b[0;31m# 创建一个子屏幕，坐标是先y后x\u001b[0m\u001b[0;34m\u001b[0m\u001b[0m\n\u001b[0m\u001b[1;32m      9\u001b[0m \u001b[0mmyscreen\u001b[0m\u001b[0;34m.\u001b[0m\u001b[0mrefresh\u001b[0m\u001b[0;34m(\u001b[0m\u001b[0;34m)\u001b[0m    \u001b[0;31m#　刷新屏幕\u001b[0m\u001b[0;34m\u001b[0m\u001b[0m\n\u001b[1;32m     10\u001b[0m \u001b[0mmyscreen\u001b[0m\u001b[0;34m.\u001b[0m\u001b[0mgetch\u001b[0m\u001b[0;34m(\u001b[0m\u001b[0;34m)\u001b[0m    \u001b[0;31m# 等待用户的输入字符\u001b[0m\u001b[0;34m\u001b[0m\u001b[0m\n",
      "\u001b[0;31mNameError\u001b[0m: name 'height' is not defined"
     ]
    }
   ],
   "source": [
    "import curses\n",
    "myscreen = curses.initscr()    # 画布初始化\n",
    "myscreen.border(0)    # 设置边框,小号一个单位的长度，屏幕原本的限长是0~23行，0~80列\n",
    "myscreen.addstr(12 ,25 , 'please input some command line to continue ... ')    #　添加字符串\n",
    "myscreen.addch(12,12)    # 等待用户输入字符\n",
    "curses.noecho()    # 关闭屏幕的回显，只在合适的时候输出屏幕内容,用户的输入不会显示在屏幕上\n",
    "curses.echo()    # 打开屏幕的回显\n",
    "curses.newwin(height , width , beginy , beginx)    # 创建一个子屏幕，坐标是先y后x\n",
    "myscreen.refresh()    #　刷新屏幕\n",
    "myscreen.getch()    # 等待用户的输入字符\n",
    "myscreen.getstr()    # 等待用户输入字符串\n",
    "myscreen.erase()    # 清空画布\n",
    "curses.endwin()    # 画布终止，必须执行，建议使用try / finally执行"
   ]
  },
  {
   "cell_type": "code",
   "execution_count": null,
   "metadata": {
    "collapsed": true
   },
   "outputs": [],
   "source": []
  }
 ],
 "metadata": {
  "kernelspec": {
   "display_name": "Python 3",
   "language": "python",
   "name": "python3"
  },
  "language_info": {
   "codemirror_mode": {
    "name": "ipython",
    "version": 3
   },
   "file_extension": ".py",
   "mimetype": "text/x-python",
   "name": "python",
   "nbconvert_exporter": "python",
   "pygments_lexer": "ipython3",
   "version": "3.5.2"
  }
 },
 "nbformat": 4,
 "nbformat_minor": 2
}
