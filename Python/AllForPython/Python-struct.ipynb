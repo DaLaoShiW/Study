{
 "cells": [
  {
   "cell_type": "markdown",
   "metadata": {},
   "source": [
    "### Python-struct\n",
    "1. 解析和打包二进制数据\n",
    "2. **[The notebook consult from here](https://docs.python.org/3.6/library/struct.html)**\n",
    "\n",
    "---\n",
    "\n",
    "1. 模块的作用\n",
    "    \n",
    "    * 模块的函数的作用在于转换 `Python` 和 `C` 之间的数据\n",
    "    * `Python` 的 `bytes` 类型的字符串数据被用来接收和保存 `C` 结构体的数据并使用格式控制符号 `format` 的字符串描述数据在 `C` 结构体中的布局模式\n",
    "    * 可以用来控制二进制数据的存储或者网络信息的存储\n",
    "    * `format` 格式控制字符串表示了对 `C` 语言结构体的格式描述和扩展的 `Python` 的值的转换\n",
    "    \n",
    "2. 主要函数\n",
    "    1. `struct.pack(fmt, v1, v2, ...)` : 返回的是一个字节字符串，是参数按照fmt数据格式组合而成。\n",
    "    2. `struct.unpack(fmt, buffer)` : 解析字节字符串到 `Python` 的标准类型\n",
    "    3. `struct.clacsize(fmt)` : 按照字节字符串的解析格式计算 `Python` 的数据大小\n",
    "    \n",
    "3. 格式控制符号 `format`\n",
    "    1. 作用 : 在解析和构建数据的时候提供一种合适布局格式\n",
    "    2. 字节序，大小和对齐 **是 `format` 的第一个字符串**\n",
    "    \n",
    "    ---\n",
    "\n",
    "| Character | Byte order | Size | Alignment |\n",
    "        | --------- | ---------- | ---- | --------- |\n",
    "        | @ \t    | native \t | native | native |\n",
    "        | = \t    | native \t | standard | none |\n",
    "        | < \t    | little-endian | standard | none |\n",
    "        | > \t    | big-endian | standard | none |\n",
    "        | ! \t    | network (= big-endian) | standard | none |\n",
    "      \n",
    "      \n",
    " * 如果第一个字符不是上述的几个的话，默认是 `@`\n",
    " * `native` 是大端还是小段模式取决于当前的系统，使用 `sys.byteorder` 查看当前的系统是大端还是小端模式\n",
    " * `standard` 模式主要取决于之后的格式控制字符\n",
    " * `network` 模式表示网络信息传输中，一般都使用大端传输模式\n",
    " \n",
    "    ---\n",
    "    \n",
    "    格式控制字符串表示了对 `C` 语言的数据类型到 `Python` 数据类型的转换方式\n",
    "    \n",
    "| Format |\tC Type |\tPython type |\tStandard size |\tNotes |\n",
    "| --- | --- | --- | --- | --- | \n",
    "| x |\tpad byte |\tno value | | | \t  \t \n",
    "| c |\tchar |\tbytes of length | 1 |\t1 \t |\n",
    "| b |\tsigned char |\tinteger |\t1 |\t(1),(3) |\n",
    "| B |\tunsigned char |\tinteger |\t1 |\t(3) |\n",
    "| ? |  \t_Bool |\tbool |\t1 |\t(1) |\n",
    "| h |\tshort |\tinteger |\t2 |\t(3) |\n",
    "| H |\tunsigned short |\tinteger |\t2 |\t(3) |\n",
    "| i |\tint |\tinteger |\t4 |\t(3) |\n",
    "| I |\tunsigned int |\tinteger |\t4 |\t(3) |\n",
    "| l |\tlong \t|integer |\t4 |\t(3)|\n",
    "| L |\tunsigned long |\tinteger |\t4 |\t(3)|\n",
    "|q| \tlong long |\tinteger |\t8 \t|(2), (3)|\n",
    "|Q| \tunsigned long long| \tinteger |\t8 |\t(2), (3)|\n",
    "|n| \tssize_t |\tinteger |\t  |\t(4)|\n",
    "|N| \tsize_t \t|integer| | \t  \t(4)|\n",
    "|e| \t(7) |\tfloat |\t2 |\t(5)|\n",
    "|f| \tfloat| \tfloat| \t4| \t(5)|\n",
    "|d| \tdouble| \tfloat| \t8| \t(5)|\n",
    "|s| \tchar[]| \tbytes \t  \t |||\n",
    "|p| \tchar[]| \tbytes \t  \t |||\n",
    "|P| \tvoid * |\tinteger |\t  |\t(6)|\n",
    "\n",
    "* 使用了 `standard` 模式的话，使用的是上式的字节大小标准，但是如果是 `native` 的话是和当前的系统平台有关的\n",
    "* 上述的格式控制字符前可能会出现一个整形数字比如 `4h`,代表重复 `hhhh`， 这一点对于 `s` / `p` 也是适用的，但是表示的是数组的长度，默认是1"
   ]
  },
  {
   "cell_type": "code",
   "execution_count": 3,
   "metadata": {
    "collapsed": true
   },
   "outputs": [],
   "source": [
    "# 导入包\n",
    "import struct"
   ]
  },
  {
   "cell_type": "code",
   "execution_count": 16,
   "metadata": {
    "collapsed": false
   },
   "outputs": [
    {
     "name": "stdout",
     "output_type": "stream",
     "text": [
      "b'\\x00\\x01\\x00\\x02\\x00\\x00\\x00\\x03'\n",
      "b'\\x01\\x00\\x02\\x00\\x03\\x00\\x00\\x00'\n",
      "(1, 2, 3)\n",
      "(256, 512, 50331648)\n",
      "16 8 8\n"
     ]
    }
   ],
   "source": [
    "# 下面的所有例子都是 native 模式下\n",
    "big = struct.pack('>hhl', 1, 2, 3)\n",
    "little = struct.pack('<hhl', 1, 2, 3)\n",
    "# 可以看出来大端模式中，高位字节在低地址中，低位字节在低地址中\n",
    "print(big)\n",
    "print(little)\n",
    "\n",
    "# 要正确的使用解析模式才会解析出正确的数字，否则只会解析出错误的数组\n",
    "# 解析正确\n",
    "unbig = struct.unpack('>hhl', big)\n",
    "print(unbig)\n",
    "# 解析错误, 小端解释的话,刚好将 \\x00\\x01 -> 100000000 -> 256\n",
    "unbig = struct.unpack('<hhl', big)\n",
    "print(unbig)\n",
    "\n",
    "# 计算大小, @方式使用了内存对齐的方式，一个 4 字节\n",
    "print(struct.calcsize('hhl'), struct.calcsize('<hhl'), struct.calcsize('>hhl'))"
   ]
  },
  {
   "cell_type": "code",
   "execution_count": 19,
   "metadata": {
    "collapsed": false
   },
   "outputs": [
    {
     "data": {
      "text/plain": [
       "Student(name=b'raymond   ', serialnum=4658, school=264, gradelevel=8)"
      ]
     },
     "execution_count": 19,
     "metadata": {},
     "output_type": "execute_result"
    }
   ],
   "source": [
    "# namedtuple \n",
    "record = b'raymond   \\x32\\x12\\x08\\x01\\x08'\n",
    "name, serialnum, school, gradelevel = struct.unpack('<10sHHb', record)\n",
    "from collections import namedtuple\n",
    "Student = namedtuple('Student', 'name serialnum school gradelevel')\n",
    "\n",
    "# 大端模式\n",
    "# \\x12\\x32 -> 0001001000110010 -> 4658\n",
    "# \\x01\\x08 -> 0000000100001000 -> 264\n",
    "# \\x08 -> 字符是 8\n",
    "Student._make(struct.unpack('<10sHHb', record))"
   ]
  },
  {
   "cell_type": "code",
   "execution_count": 20,
   "metadata": {
    "collapsed": false
   },
   "outputs": [
    {
     "name": "stdout",
     "output_type": "stream",
     "text": [
      "b'*\\x00\\x00\\x00\\x15\\x14\\x13\\x12'\n",
      "b'\\x15\\x14\\x13\\x12*'\n",
      "8\n",
      "5\n"
     ]
    }
   ],
   "source": [
    "# 内存对齐\n",
    "print(struct.pack('ci', b'*', 0x12131415))\n",
    "print(struct.pack('ic', 0x12131415, b'*'))\n",
    "print(struct.calcsize('ci'))\n",
    "print(struct.calcsize('ic'))"
   ]
  }
 ],
 "metadata": {
  "kernelspec": {
   "display_name": "Python 3",
   "language": "python",
   "name": "python3"
  },
  "language_info": {
   "codemirror_mode": {
    "name": "ipython",
    "version": 3
   },
   "file_extension": ".py",
   "mimetype": "text/x-python",
   "name": "python",
   "nbconvert_exporter": "python",
   "pygments_lexer": "ipython3",
   "version": "3.5.2"
  }
 },
 "nbformat": 4,
 "nbformat_minor": 2
}
